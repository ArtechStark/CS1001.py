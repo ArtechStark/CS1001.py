{
 "metadata": {
  "name": "recitation11"
 },
 "nbformat": 3,
 "nbformat_minor": 0,
 "worksheets": [
  {
   "cells": [
    {
     "cell_type": "markdown",
     "metadata": {},
     "source": [
      "# CS1001.py\n",
      "\n",
      "## Extended Introduction to Computer Science with Python, Tel-Aviv University, Spring 2013\n",
      "\n",
      "# Recitation 10 - 16-20.5.2013\n",
      "\n",
      "## Last update: 16.5.2013"
     ]
    }
   ],
   "metadata": {}
  }
 ]
}