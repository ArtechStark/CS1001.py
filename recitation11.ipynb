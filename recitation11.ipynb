{
 "metadata": {
  "name": "recitation11"
 },
 "nbformat": 3,
 "nbformat_minor": 0,
 "worksheets": [
  {
   "cells": [
    {
     "cell_type": "markdown",
     "metadata": {},
     "source": [
      "# CS1001.py\n",
      "\n",
      "## Extended Introduction to Computer Science with Python, Tel-Aviv University, Spring 2013\n",
      "\n",
      "# Recitation 11 - 23-27.5.2013\n",
      "\n",
      "## Last update: 20.5.2013"
     ]
    },
    {
     "cell_type": "markdown",
     "metadata": {},
     "source": [
      "# Huffman codes\n",
      "\n",
      "Unicode and [ASCII](http://www.asciitable.com/) code map characters to bits, but all characters (letters, numbers, punctuation marks) map to the same number of bits (7 for ASCII).\n",
      "\n",
      "The **Huffman code** is a *variable length code*. The code length (in bits) for each datum (data point) is proportional to its frequency in the data. This is effectively a *loss-less compression*. The frequencies are calculated from a **corpus** - a big representative data set. \n",
      "\n",
      "To preserve the reversability of the code (one-to-one) we use **prefix free** codes - no code is a prefix of another code.\n",
      "\n",
      "![Huffman code flow](https://raw.github.com/yoavram/CS1001.py/master/huffman_flow.png)"
     ]
    },
    {
     "cell_type": "markdown",
     "metadata": {},
     "source": [
      "We start with a simple code for creating a histogram of the data:"
     ]
    },
    {
     "cell_type": "code",
     "collapsed": false,
     "input": [
      "def char_count(text):\n",
      "    histogram = {}\n",
      "    for ch in text:\n",
      "        histogram[ch] = histogram.get(ch, 0) + 1\n",
      "    return histogram"
     ],
     "language": "python",
     "metadata": {},
     "outputs": [],
     "prompt_number": 1
    },
    {
     "cell_type": "code",
     "collapsed": false,
     "input": [
      "letter_count = char_count(\"live and let live\")\n",
      "letter_count"
     ],
     "language": "python",
     "metadata": {},
     "outputs": [
      {
       "output_type": "pyout",
       "prompt_number": 2,
       "text": [
        "{' ': 3, 'a': 1, 'd': 1, 'e': 3, 'i': 2, 'l': 3, 'n': 1, 't': 1, 'v': 2}"
       ]
      }
     ],
     "prompt_number": 2
    },
    {
     "cell_type": "markdown",
     "metadata": {},
     "source": [
      "Next we need to build the Huffman tree."
     ]
    },
    {
     "cell_type": "code",
     "collapsed": false,
     "input": [
      "def by_value(tup):\n",
      "    return tup[1]\n",
      "\n",
      "def build_huffman_tree(letter_count):\n",
      "    \"\"\" recieves dictionary with char:count entries\n",
      "        generates a list of letters representing the binary Huffman encoding tree\"\"\"\n",
      "    queue = list(letter_count.items())\n",
      "    while len(queue) >= 2:\n",
      "        queue.sort(key=by_value)  # sort by the count\n",
      "        # combine two least frequent elements\n",
      "        elem1, freq1 = queue.pop(0)\n",
      "        elem2, freq2 = queue.pop(0) \n",
      "        elems = (elem1, elem2)\n",
      "        freqs = freq1 + freq2\n",
      "        queue.append((elems,freqs))\n",
      "    return queue[0][0]"
     ],
     "language": "python",
     "metadata": {},
     "outputs": [],
     "prompt_number": 3
    },
    {
     "cell_type": "code",
     "collapsed": false,
     "input": [
      "tree = build_huffman_tree(letter_count)\n",
      "tree"
     ],
     "language": "python",
     "metadata": {},
     "outputs": [
      {
       "output_type": "pyout",
       "prompt_number": 14,
       "text": [
        "(('l', ('i', 'v')), ((('a', 'd'), ('n', 't')), (' ', 'e')))"
       ]
      }
     ],
     "prompt_number": 14
    },
    {
     "cell_type": "markdown",
     "metadata": {},
     "source": [
      "![Huffman tree example](https://raw.github.com/yoavram/CS1001.py/master/huffman_tree.png)"
     ]
    },
    {
     "cell_type": "code",
     "collapsed": false,
     "input": [
      "def generate_code(huff_tree, prefix=''):\n",
      "    \"\"\" receives a Huffman tree with embedded encoding and a prefix of encodings.\n",
      "        returns a dictionary where characters are keys and associated binary strings are values.\"\"\"\n",
      "    if isinstance(huff_tree, str): # a leaf\n",
      "        return {huff_tree: prefix}\n",
      "    else:\n",
      "        left, right = huff_tree\n",
      "        codebook = {}\n",
      "        codebook.update( generate_code(left,  prefix + '0'))\n",
      "        codebook.update( generate_code(right, prefix + '1'))\n",
      "        return codebook"
     ],
     "language": "python",
     "metadata": {},
     "outputs": [],
     "prompt_number": 5
    },
    {
     "cell_type": "code",
     "collapsed": false,
     "input": [
      "codebook = generate_code(tree)\n",
      "for ch,freq in sorted(letter_count.items(), key=by_value, reverse=True):\n",
      "    print(ch, freq, codebook[ch])"
     ],
     "language": "python",
     "metadata": {},
     "outputs": [
      {
       "output_type": "stream",
       "stream": "stdout",
       "text": [
        "  3 110\n",
        "e 3 111\n",
        "l 3 00\n",
        "i 2 010\n",
        "v 2 011\n",
        "a 1 1000\n",
        "d 1 1001\n",
        "n 1 1010\n",
        "t 1 1011\n"
       ]
      }
     ],
     "prompt_number": 6
    },
    {
     "cell_type": "code",
     "collapsed": false,
     "input": [
      "def compress(text, codebook):\n",
      "  ''' compress text using codebook dictionary '''\n",
      "  return ''.join(codebook[ch] for ch in text if ord(ch) <= 128)"
     ],
     "language": "python",
     "metadata": {},
     "outputs": [],
     "prompt_number": 21
    },
    {
     "cell_type": "code",
     "collapsed": false,
     "input": [
      "bits = ''.join([bin(ord(ch))[2:] for ch in \"live and let live\" if ord(ch) <= 128])\n",
      "huff_bits = compress(\"live and let live\", codebook)"
     ],
     "language": "python",
     "metadata": {},
     "outputs": [],
     "prompt_number": 23
    },
    {
     "cell_type": "code",
     "collapsed": false,
     "input": [
      "print(len(bits),bits)\n",
      "print(len(huff_bits),huff_bits)"
     ],
     "language": "python",
     "metadata": {},
     "outputs": [
      {
       "output_type": "stream",
       "stream": "stdout",
       "text": [
        "116 11011001101001111011011001011000001100001110111011001001000001101100110010111101001000001101100110100111101101100101\n",
        "52 0001001111111010001010100111000111101111000010011111\n"
       ]
      }
     ],
     "prompt_number": 24
    },
    {
     "cell_type": "code",
     "collapsed": false,
     "input": [
      "def build_decoding_dict(codebook):\n",
      "   \"\"\"build the \"reverse\" of encoding dictionary\"\"\"\n",
      "   return {v:k for k,v in codebook.items()}"
     ],
     "language": "python",
     "metadata": {},
     "outputs": [],
     "prompt_number": 25
    },
    {
     "cell_type": "code",
     "collapsed": false,
     "input": [
      "decodebook = build_decoding_dict(codebook)\n",
      "decodebook"
     ],
     "language": "python",
     "metadata": {},
     "outputs": [
      {
       "output_type": "pyout",
       "prompt_number": 26,
       "text": [
        "{'00': 'l',\n",
        " '010': 'i',\n",
        " '011': 'v',\n",
        " '1000': 'a',\n",
        " '1001': 'd',\n",
        " '1010': 'n',\n",
        " '1011': 't',\n",
        " '110': ' ',\n",
        " '111': 'e'}"
       ]
      }
     ],
     "prompt_number": 26
    },
    {
     "cell_type": "code",
     "collapsed": false,
     "input": [
      "def decompress(bits, decodebook):\n",
      "   prefix = ''\n",
      "   result = []\n",
      "   for bit in bits:\n",
      "      prefix += bit\n",
      "      if prefix not in decodebook:\n",
      "         continue\n",
      "      result.append(decodebook[prefix])\n",
      "      prefix = ''\n",
      "   assert prefix == '' # must finish last codeword\n",
      "   return ''.join(result)  # converts list of chars to a string"
     ],
     "language": "python",
     "metadata": {},
     "outputs": [],
     "prompt_number": 27
    },
    {
     "cell_type": "code",
     "collapsed": false,
     "input": [
      "decompress(huff_bits, decodebook)"
     ],
     "language": "python",
     "metadata": {},
     "outputs": [
      {
       "output_type": "pyout",
       "prompt_number": 29,
       "text": [
        "'live and let live'"
       ]
      }
     ],
     "prompt_number": 29
    },
    {
     "cell_type": "markdown",
     "metadata": {},
     "source": [
      "# Supplementry\n",
      "\n",
      "The following code was used to generate the Huffman tree image:"
     ]
    },
    {
     "cell_type": "code",
     "collapsed": false,
     "input": [
      "import pydot # https://github.com/nlhepler/pydot-py3, http://pyparsing.wikispaces.com/Download+and+Installation"
     ],
     "language": "python",
     "metadata": {},
     "outputs": [
      {
       "output_type": "stream",
       "stream": "stdout",
       "text": [
        "Couldn't import dot_parser, loading of dot files will not be possible.\n"
       ]
      }
     ],
     "prompt_number": 7
    },
    {
     "cell_type": "code",
     "collapsed": false,
     "input": [
      "def tree_to_str(tree):\n",
      "    if isinstance(tree, str):\n",
      "        return tree\n",
      "    return ''.join([tree_to_str(item) for item in tree])\n",
      "tree_to_str(tree)"
     ],
     "language": "python",
     "metadata": {},
     "outputs": [
      {
       "output_type": "pyout",
       "prompt_number": 8,
       "text": [
        "'livadnt e'"
       ]
      }
     ],
     "prompt_number": 8
    },
    {
     "cell_type": "code",
     "collapsed": false,
     "input": [
      "graph = pydot.Dot(graph_type='digraph',strict=True)\n",
      "root = pydot.Node(tree_to_str(tree))\n",
      "graph.add_node(root)"
     ],
     "language": "python",
     "metadata": {},
     "outputs": [],
     "prompt_number": 9
    },
    {
     "cell_type": "code",
     "collapsed": false,
     "input": [
      "def add_to_node(tree, node):\n",
      "    left, right = tree\n",
      "    left_node, right_node = pydot.Node(tree_to_str(left)), pydot.Node(tree_to_str(right))\n",
      "    graph.add_node(left_node)\n",
      "    graph.add_node(right_node)\n",
      "    graph.add_edge(pydot.Edge(node, left_node))\n",
      "    graph.add_edge(pydot.Edge(node, right_node))\n",
      "    if not isinstance(left, str):\n",
      "        add_to_node(left, left_node)\n",
      "    if  not isinstance(right, str):\n",
      "        add_to_node(right, right_node)\n",
      "add_to_node(tree, root)"
     ],
     "language": "python",
     "metadata": {},
     "outputs": [],
     "prompt_number": 10
    },
    {
     "cell_type": "code",
     "collapsed": false,
     "input": [
      "with open(\"tmp.dot\",\"w\") as f:\n",
      "    f.write(graph.to_string())\n",
      "!dot tmp.dot -Tpng -ohuffman_tree.png \n",
      "!huffman_tree.png"
     ],
     "language": "python",
     "metadata": {},
     "outputs": [],
     "prompt_number": 11
    },
    {
     "cell_type": "code",
     "collapsed": false,
     "input": [],
     "language": "python",
     "metadata": {},
     "outputs": []
    }
   ],
   "metadata": {}
  }
 ]
}