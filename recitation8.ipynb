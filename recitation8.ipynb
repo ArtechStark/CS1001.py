{
 "metadata": {
  "name": "recitation8"
 },
 "nbformat": 3,
 "nbformat_minor": 0,
 "worksheets": [
  {
   "cells": [
    {
     "cell_type": "markdown",
     "metadata": {},
     "source": [
      "# CS1001.py\n",
      "\n",
      "## Extended Introduction to Computer Science with Python, Tel-Aviv University, Spring 2013\n",
      "\n",
      "# Recitation 8 - 2-6.5.2013\n",
      "\n",
      "## Last update: 30.4.2013"
     ]
    },
    {
     "cell_type": "markdown",
     "metadata": {},
     "source": [
      "# Hashing\n",
      "\n",
      "We want a dynamic dictionary with insert, remove, search. \n",
      "\n",
      "The keys are from a very large set *U* but the number of distinct elements expected is *n*, and $n<<|U|$.\n",
      "\n",
      "We will use a table of size *m*, where $m\\approx n$.\n",
      "\n",
      "For example, *U* is the set of 8-digit ID numbers, so $|U| = 10^8$. \n",
      "\n",
      "*n* is the size of the Israeli population, so $m\\approx n \\approx 10^7$.\n",
      "\n",
      "We need a function $h: U \\to {0,1,...,m-1}$. Collisons are unavoidable (*pigeon hole principle*), so we want *h* to distribute the values uniformly on ${0,1,...,m-1}$, and we can then avoid collisons using lists, coockoo hashing, etc. "
     ]
    },
    {
     "cell_type": "code",
     "collapsed": false,
     "input": [
      "def hash_table(m):\n",
      "    \"\"\" initial hash table, m empty entries \"\"\"\n",
      "    return [ [] for i in range(m)]\n",
      "\n",
      "def hash_mod(key, mod, func=hash):\n",
      "    return func(key) % mod\n",
      "\n",
      "def contained(candidate_key, list_of_items):\n",
      "    \"\"\" checks if item is a member in list_of_items \"\"\"\n",
      "    for k in range(len(list_of_items)):\n",
      "        if candidate_key == list_of_items[k]: #generally, compare to list_of_items[k].KEY\n",
      "            return k\n",
      "    return None\n",
      "\n",
      "def find(candidate_key, table, h=hash, mod=0):\n",
      "    \"\"\" returns item with candidate_key if in table of size mod using hash func h, otherwise return None  \"\"\"\n",
      "    if mod == 0:\n",
      "        mod = len(table)\n",
      "    i = hash_mod(candidate_key, mod, h)\n",
      "    list_of_items = table[i]\n",
      "    k = contained(candidate_key ,list_of_items)\n",
      "    if k != None:\n",
      "        return list_of_items[k] #generally, return list_of_items[k].VALUES\n",
      "    else:\n",
      "        return None\n",
      "\n",
      "def insert(item, table, h=hash, mod=0):\n",
      "    \"\"\" insert an item into table of size mod using hash function h\"\"\"\n",
      "    if mod == 0:\n",
      "        mod = len(table)\n",
      "    i = hash_mod(item, mod, h)\n",
      "    if not contained(item, table[i]): # table already contains this value\n",
      "        table[i].append(item)"
     ],
     "language": "python",
     "metadata": {},
     "outputs": []
    },
    {
     "cell_type": "markdown",
     "metadata": {},
     "source": [
      "## Fin\n",
      "This notebook is part of the [Extended introduction to computer science](http://tau-cs1001-py.wikidot.com/) course at Tel-Aviv University.\n",
      "\n",
      "The notebook was written using Python 3.2 and IPython 0.13.1.\n",
      "\n",
      "The code is available at <https://raw.github.com/yoavram/CS1001.py/master/recitation8.ipynb>.\n",
      "\n",
      "The notebook can be viewed online at <http://nbviewer.ipython.org/urls/raw.github.com/yoavram/CS1001.py/master/recitation8.ipynb>.\n",
      "\n",
      "This work is licensed under a [Creative Commons Attribution-ShareAlike 3.0 Unported License](http://creativecommons.org/licenses/by-sa/3.0/)."
     ]
    }
   ],
   "metadata": {}
  }
 ]
}