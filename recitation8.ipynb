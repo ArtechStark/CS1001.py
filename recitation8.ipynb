{
 "metadata": {
  "name": "recitation8"
 },
 "nbformat": 3,
 "nbformat_minor": 0,
 "worksheets": [
  {
   "cells": [
    {
     "cell_type": "markdown",
     "metadata": {},
     "source": [
      "# CS1001.py\n",
      "\n",
      "## Extended Introduction to Computer Science with Python, Tel-Aviv University, Spring 2013\n",
      "\n",
      "# Recitation 8 - 2-6.5.2013\n",
      "\n",
      "## Last update: 30.4.2013"
     ]
    },
    {
     "cell_type": "markdown",
     "metadata": {},
     "source": [
      "# Hashing\n",
      "\n",
      "We want a dynamic dictionary with insert, remove, search. \n",
      "\n",
      "The keys are from a very large set *U* but the number of distinct elements expected is *n*, and $n<<|U|$.\n",
      "\n",
      "We will use a table of size *m*, where $m\\approx n$.\n",
      "\n",
      "For example, *U* is the set of 8-digit ID numbers, so $|U| = 10^8$. \n",
      "\n",
      "*n* is the size of the Israeli population, so $m\\approx n \\approx 10^7$.\n",
      "\n",
      "We need a function $h: U \\to {0,1,...,m-1}$. Collisons are unavoidable (*pigeon hole principle*), so we want *h* to distribute the values uniformly on ${0,1,...,m-1}$, and we can then avoid collisons using lists, coockoo hashing, etc. "
     ]
    },
    {
     "cell_type": "code",
     "collapsed": false,
     "input": [
      "class MyHashtable:\n",
      "    def __init__(self, m):\n",
      "        \"\"\" initial hash table, m empty entries \"\"\"\n",
      "        self.data = [ [] for i in range(m)]\n",
      "    \n",
      "    @staticmethod\n",
      "    def hash_mod(key, mod, func=hash):\n",
      "        return func(key) % mod\n",
      "    \n",
      "    @staticmethod\n",
      "    def contained(candidate_key, list_of_items):\n",
      "        \"\"\" checks if item is a member in list_of_items \"\"\"\n",
      "        for k in range(len(list_of_items)):\n",
      "            if candidate_key == list_of_items[k]: #generally, compare to list_of_items[k].KEY\n",
      "                return k\n",
      "        return None\n",
      "\n",
      "    \n",
      "    def find(self, candidate_key, h=hash, mod=0):\n",
      "        \"\"\" returns item with candidate_key if in table of size mod using hash func h, otherwise return None  \"\"\"\n",
      "        if mod == 0:\n",
      "            mod = len(self.data)\n",
      "        i = MyHashtable.hash_mod(candidate_key, mod, h)\n",
      "        list_of_items = self.data[i]\n",
      "        try:\n",
      "            k = list_of_items.index(candidate_key)\n",
      "            return list_of_items[k] \n",
      "        except ValueError:\n",
      "            return None\n",
      "\n",
      "    def insert(self, item, h=hash, mod=0):\n",
      "        \"\"\" insert an item into table of size mod using hash function h\"\"\"\n",
      "        if mod == 0:\n",
      "            mod = len(self.data)\n",
      "        i = MyHashtable.hash_mod(item, mod, h)\n",
      "        try:\n",
      "            self.data[i].index(item)\n",
      "            # if the above did not fail, then table already contains this value\n",
      "        except ValueError:\n",
      "            self.data[i].append(item)"
     ],
     "language": "python",
     "metadata": {},
     "outputs": [],
     "prompt_number": 5
    },
    {
     "cell_type": "code",
     "collapsed": false,
     "input": [
      "ht = MyHashtable(100)"
     ],
     "language": "python",
     "metadata": {},
     "outputs": [],
     "prompt_number": 6
    },
    {
     "cell_type": "code",
     "collapsed": false,
     "input": [
      "ht.insert(\"yoav\")\n",
      "ht.insert(\"amir\")\n",
      "ht.insert(\"amiram\")\n",
      "ht.insert(\"haim\")"
     ],
     "language": "python",
     "metadata": {},
     "outputs": [],
     "prompt_number": 7
    },
    {
     "cell_type": "code",
     "collapsed": false,
     "input": [
      "ht.find(\"yoavi\")"
     ],
     "language": "python",
     "metadata": {},
     "outputs": [],
     "prompt_number": 9
    },
    {
     "cell_type": "code",
     "collapsed": false,
     "input": [
      "a=[1,2,3]\n",
      "a."
     ],
     "language": "python",
     "metadata": {},
     "outputs": [
      {
       "ename": "ValueError",
       "evalue": "4 is not in list",
       "output_type": "pyerr",
       "traceback": [
        "\u001b[1;31m---------------------------------------------------------------------------\u001b[0m\n\u001b[1;31mValueError\u001b[0m                                Traceback (most recent call last)",
        "\u001b[1;32m<ipython-input-11-577bde93464d>\u001b[0m in \u001b[0;36m<module>\u001b[1;34m()\u001b[0m\n\u001b[0;32m      1\u001b[0m \u001b[0ma\u001b[0m\u001b[1;33m=\u001b[0m\u001b[1;33m[\u001b[0m\u001b[1;36m1\u001b[0m\u001b[1;33m,\u001b[0m\u001b[1;36m2\u001b[0m\u001b[1;33m,\u001b[0m\u001b[1;36m3\u001b[0m\u001b[1;33m]\u001b[0m\u001b[1;33m\u001b[0m\u001b[0m\n\u001b[1;32m----> 2\u001b[1;33m \u001b[0ma\u001b[0m\u001b[1;33m.\u001b[0m\u001b[0mindex\u001b[0m\u001b[1;33m(\u001b[0m\u001b[1;36m4\u001b[0m\u001b[1;33m)\u001b[0m\u001b[1;33m\u001b[0m\u001b[0m\n\u001b[0m",
        "\u001b[1;31mValueError\u001b[0m: 4 is not in list"
       ]
      }
     ],
     "prompt_number": 11
    },
    {
     "cell_type": "markdown",
     "metadata": {},
     "source": [
      "## Fin\n",
      "This notebook is part of the [Extended introduction to computer science](http://tau-cs1001-py.wikidot.com/) course at Tel-Aviv University.\n",
      "\n",
      "The notebook was written using Python 3.2 and IPython 0.13.1.\n",
      "\n",
      "The code is available at <https://raw.github.com/yoavram/CS1001.py/master/recitation8.ipynb>.\n",
      "\n",
      "The notebook can be viewed online at <http://nbviewer.ipython.org/urls/raw.github.com/yoavram/CS1001.py/master/recitation8.ipynb>.\n",
      "\n",
      "This work is licensed under a [Creative Commons Attribution-ShareAlike 3.0 Unported License](http://creativecommons.org/licenses/by-sa/3.0/)."
     ]
    }
   ],
   "metadata": {}
  }
 ]
}