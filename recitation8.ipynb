{
 "metadata": {
  "name": "recitation8"
 },
 "nbformat": 3,
 "nbformat_minor": 0,
 "worksheets": [
  {
   "cells": [
    {
     "cell_type": "markdown",
     "metadata": {},
     "source": [
      "# CS1001.py\n",
      "\n",
      "## Extended Introduction to Computer Science with Python, Tel-Aviv University, Spring 2013\n",
      "\n",
      "# Recitation 8 - 2-6.5.2013\n",
      "\n",
      "## Last update: 30.4.2013"
     ]
    },
    {
     "cell_type": "markdown",
     "metadata": {},
     "source": [
      "# Hashing\n",
      "\n",
      "We want a dynamic dictionary with insert, remove, search. \n",
      "\n",
      "The keys are from a very large set *U* but the number of distinct elements expected is *n*, and $n<<|U|$.\n",
      "\n",
      "We will use a table of size *m*, where $m\\approx n$.\n",
      "\n",
      "For example, *U* is the set of 8-digit ID numbers, so $|U| = 10^8$. \n",
      "\n",
      "*n* is the size of the Israeli population, so $m\\approx n \\approx 10^7$.\n",
      "\n",
      "We need a function $h: U \\to {0,1,...,m-1}$. Collisons are unavoidable (*pigeon hole principle*), so we want *h* to distribute the values uniformly on ${0,1,...,m-1}$, and we can then avoid collisons using lists, coockoo hashing, etc. "
     ]
    },
    {
     "cell_type": "code",
     "collapsed": false,
     "input": [
      "class MyHashtable:\n",
      "    def __init__(self, m, hash_func=hash, mod=0):\n",
      "        \"\"\" initial hash table, m empty entries \"\"\"\n",
      "        self.data = [ [] for i in range(m)]\n",
      "        if mod == 0:\n",
      "            mod = len(self.data)\n",
      "        self.hash_mod = lambda x: hash_func(x) % mod\n",
      "    \n",
      "    def find(self, candidate_key):\n",
      "        \"\"\" returns item with candidate_key if in table of size mod using hash func h, otherwise return None  \"\"\"\n",
      "        i = self.hash_mod(candidate_key)\n",
      "        list_of_items = self.data[i]\n",
      "        try:\n",
      "            k = list_of_items.index(candidate_key)\n",
      "            return list_of_items[k] \n",
      "        except ValueError:\n",
      "            return None\n",
      "\n",
      "    def insert(self, item):\n",
      "        \"\"\" insert an item into table of size mod using hash function h\"\"\"\n",
      "        i = self.hash_mod(item)\n",
      "        try:\n",
      "            self.data[i].index(item)\n",
      "            # if the above did not fail, then table already contains this value\n",
      "        except ValueError:\n",
      "            self.data[i].append(item)"
     ],
     "language": "python",
     "metadata": {},
     "outputs": [],
     "prompt_number": 25
    },
    {
     "cell_type": "code",
     "collapsed": false,
     "input": [
      "ht = MyHashtable(100)"
     ],
     "language": "python",
     "metadata": {},
     "outputs": [],
     "prompt_number": 26
    },
    {
     "cell_type": "code",
     "collapsed": false,
     "input": [
      "ht.insert(\"yoav\")\n",
      "ht.insert(\"amir\")\n",
      "ht.insert(\"amiram\")\n",
      "ht.insert(\"haim\")"
     ],
     "language": "python",
     "metadata": {},
     "outputs": [],
     "prompt_number": 27
    },
    {
     "cell_type": "code",
     "collapsed": false,
     "input": [
      "ht.find(\"yoavi\")"
     ],
     "language": "python",
     "metadata": {},
     "outputs": [],
     "prompt_number": 28
    },
    {
     "cell_type": "code",
     "collapsed": false,
     "input": [
      "ht.find(\"yoav\")"
     ],
     "language": "python",
     "metadata": {},
     "outputs": [
      {
       "output_type": "pyout",
       "prompt_number": 29,
       "text": [
        "'yoav'"
       ]
      }
     ],
     "prompt_number": 29
    },
    {
     "cell_type": "markdown",
     "metadata": {},
     "source": [
      "## Fin\n",
      "This notebook is part of the [Extended introduction to computer science](http://tau-cs1001-py.wikidot.com/) course at Tel-Aviv University.\n",
      "\n",
      "The notebook was written using Python 3.2 and IPython 0.13.1.\n",
      "\n",
      "The code is available at <https://raw.github.com/yoavram/CS1001.py/master/recitation8.ipynb>.\n",
      "\n",
      "The notebook can be viewed online at <http://nbviewer.ipython.org/urls/raw.github.com/yoavram/CS1001.py/master/recitation8.ipynb>.\n",
      "\n",
      "This work is licensed under a [Creative Commons Attribution-ShareAlike 3.0 Unported License](http://creativecommons.org/licenses/by-sa/3.0/)."
     ]
    }
   ],
   "metadata": {}
  }
 ]
}