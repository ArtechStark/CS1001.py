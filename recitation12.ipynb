{
 "metadata": {
  "name": "recitation12"
 },
 "nbformat": 3,
 "nbformat_minor": 0,
 "worksheets": [
  {
   "cells": [
    {
     "cell_type": "markdown",
     "metadata": {},
     "source": [
      "# CS1001.py\n",
      "\n",
      "## Extended Introduction to Computer Science with Python, Tel-Aviv University, Spring 2013\n",
      "\n",
      "# Recitation 12 - 30.5-3.6.2013\n",
      "\n",
      "## Last update: 24.5.2013"
     ]
    },
    {
     "cell_type": "markdown",
     "metadata": {},
     "source": [
      "# LZ compression\n",
      "The LZ77 compression, published by Lempel and Ziv in 1977, is widely used today is formats such as GIF, PNG, DEFLATE and COMPRESS.\n",
      "\n",
      "The basic idea is that repetitions are common in meaningful information and that space can be saved by replacing occurrences of information that was already seen by a reference to the first occurrence. \n",
      "The references are coded as `(offset, length)` pairs (tuples).\n",
      "\n",
      "For example, the text 'abracadabra' can be compressed as 'abracad(7,4)'. The `7` refers to the substring 7 position behind, and the `4` defines the repetition length.\n",
      "\n",
      "Counter-intuitively, the repetition length can be larger than the offset, creating an illusion of a loop or self-reference:\n",
      "\n",
      "![Eshcer drawing](http://upload.wikimedia.org/wikipedia/en/thumb/b/ba/DrawingHands.jpg/250px-DrawingHands.jpg)\n",
      "\n",
      "However, as the algorithm is implemented using a state machine (DFA) there is no real problem here.\n",
      "\n",
      "We begin by writing the repetition finding funciton. \n",
      "\n",
      "The function recieves a text and the current position in the text, and looks at the text to find a previous occurence of the substring that starts at the current position.\n",
      "\n",
      "The maximum window length and the maximum repetition length, given with default values, are used to fine tune the memory-running time tradeoff of the algorithm."
     ]
    },
    {
     "cell_type": "code",
     "collapsed": false,
     "input": [
      "def find_max_repetition(text, index, window_length=2**12-1, max_length=2**5-1):\n",
      "    \"\"\" finds a maximum repetition in the text.\n",
      "    Returns offset and length of the longest repetition.\n",
      "    Returned offset is smallest one (closest to index) among all max matches\"\"\"\n",
      "    assert isinstance(text, str)\n",
      "    repitition_length = 0 # length of max repitition\n",
      "    repitition_offset = 0 # distance backwards to begining of max repitition\n",
      "    for offset in range(1, min(index + 1, window_length)): \n",
      "        current_length = 0\n",
      "        while current_length < min(max_length, len(text) - index) and text[index - offset + k] == text[index + k]:\n",
      "            current_length += + 1\n",
      "        if repitition_length < current_length:  \n",
      "            repitition_length = current_length\n",
      "            repitition_offset = offset\n",
      "    return repitition_offset, repitition_length\n",
      "\n",
      "def test_find_max_repetition(text, index):\n",
      "    offset, length = find_max_repetition(text, index)\n",
      "    print(text[index:index+length])\n",
      "    print(text[index-offset:index-offset+length])\n",
      "    return text[index:index+length] == text[index-offset:index-offset+length]"
     ],
     "language": "python",
     "metadata": {},
     "outputs": [],
     "prompt_number": 1
    },
    {
     "cell_type": "code",
     "collapsed": false,
     "input": [
      "find_max_repetition(\"abracadabra\", 7)"
     ],
     "language": "python",
     "metadata": {},
     "outputs": [
      {
       "output_type": "pyout",
       "prompt_number": 2,
       "text": [
        "(7, 4)"
       ]
      }
     ],
     "prompt_number": 2
    },
    {
     "cell_type": "code",
     "collapsed": false,
     "input": [
      "find_max_repetition(\"xyzxyzwxyzw\", 3)"
     ],
     "language": "python",
     "metadata": {},
     "outputs": [
      {
       "output_type": "pyout",
       "prompt_number": 3,
       "text": [
        "(3, 3)"
       ]
      }
     ],
     "prompt_number": 3
    },
    {
     "cell_type": "code",
     "collapsed": false,
     "input": [
      "find_max_repetition(\"xyzxyzwxyzw\", 7)"
     ],
     "language": "python",
     "metadata": {},
     "outputs": [
      {
       "output_type": "pyout",
       "prompt_number": 4,
       "text": [
        "(4, 4)"
       ]
      }
     ],
     "prompt_number": 4
    },
    {
     "cell_type": "code",
     "collapsed": false,
     "input": [
      "find_max_repetition('aaaaa', 1)"
     ],
     "language": "python",
     "metadata": {},
     "outputs": [
      {
       "output_type": "pyout",
       "prompt_number": 5,
       "text": [
        "(1, 4)"
       ]
      }
     ],
     "prompt_number": 5
    },
    {
     "cell_type": "markdown",
     "metadata": {},
     "source": [
      "The next step is to write the compression algorithm. The flow of the compression is described by this graph:\n",
      "\n",
      "![LZ compression flow](https://raw.github.com/yoavram/CS1001.py/master/lz_flow.PNG)\n",
      "\n",
      "We will start with the compression function. It will recieve a text and will iterate over the characters of the text, looking for a repetition at each character."
     ]
    },
    {
     "cell_type": "code",
     "collapsed": false,
     "input": [
      "def lz77_compress(text, window_length=2**12-1, max_length=2**5-1):\n",
      "    \"\"\"LZ77 compression of ASCII text. \n",
      "    Produces a list comprising of either ascii character\n",
      "    or by a pair [m,k] where m is an offset and\n",
      "    k is a match (both are non negative integers)\"\"\"\n",
      "    result = []\n",
      "    index = 0\n",
      "    while index < len(text):\n",
      "        if ord(text[index]) >= 128:\n",
      "            # non-ascii\n",
      "            continue\n",
      "        offset, length = find_max_repetition(text, index, window_length, max_length)\n",
      "        if length < 2:\n",
      "            # no repetition or a single character repetition\n",
      "            result.append(text[index]) \n",
      "            index += 1\n",
      "        else:\n",
      "            result.append((offset, length))   # two or more chars in repetition\n",
      "            index += length\n",
      "    return result  # produces a list composed of chars and pairs"
     ],
     "language": "python",
     "metadata": {},
     "outputs": [],
     "prompt_number": 6
    },
    {
     "cell_type": "code",
     "collapsed": false,
     "input": [
      "print(lz77_compress(\"You know what I hate, you know what I hate, you know what I hate? Repetitions!\"))"
     ],
     "language": "python",
     "metadata": {},
     "outputs": [
      {
       "output_type": "stream",
       "stream": "stdout",
       "text": [
        "['Y', 'o', 'u', ' ', 'k', 'n', 'o', 'w', ' ', 'w', 'h', 'a', 't', ' ', 'I', ' ', (6, 3), 'e', ',', ' ', 'y', (22, 31), (22, 10), '?', ' ', 'R', 'e', 'p', 'e', 't', 'i', (2, 2), 'o', 'n', 's', '!']\n"
       ]
      }
     ],
     "prompt_number": 7
    },
    {
     "cell_type": "code",
     "collapsed": false,
     "input": [
      "welcome = '''Welcome my son, welcome to the machine.\n",
      "Where have you been? It's alright we know where you've been.\n",
      "You've been in the pipeline, filling in time, \n",
      "Provided with toys and Scouting for Boys.\n",
      "You bought a guitar to punish your ma,\n",
      "And you didn't like school, and you know you're nobody's fool,\n",
      "So welcome to the machine.\n",
      "Welcome my son, welcome to the machine.\n",
      "What did you dream? It's alright we told you what to dream.\n",
      "You dreamed of a big star, he played a mean guitar,\n",
      "He always ate in the Steak Bar. He loved to drive in his Jaguar.\n",
      "So welcome to the machine.'''"
     ],
     "language": "python",
     "metadata": {},
     "outputs": [],
     "prompt_number": 8
    },
    {
     "cell_type": "code",
     "collapsed": false,
     "input": [
      "welcome_intermediate = lz77_compress(welcome)\n",
      "print(welcome_intermediate)"
     ],
     "language": "python",
     "metadata": {},
     "outputs": [
      {
       "output_type": "stream",
       "stream": "stdout",
       "text": [
        "['W', 'e', 'l', 'c', 'o', 'm', 'e', ' ', 'm', 'y', ' ', 's', 'o', 'n', ',', ' ', 'w', (16, 7), 't', 'o', (3, 2), 'h', (23, 3), 'a', 'c', 'h', 'i', 'n', 'e', '.', '\\n', 'W', (13, 2), 'r', (15, 2), 'h', 'a', 'v', (5, 2), 'y', 'o', 'u', ' ', 'b', 'e', 'e', 'n', '?', ' ', 'I', 't', \"'\", 's', ' ', 'a', 'l', 'r', 'i', 'g', 'h', 't', (58, 3), ' ', 'k', 'n', 'o', 'w', (8, 2), (42, 5), (37, 3), \"'\", (44, 3), (40, 4), (61, 2), 'Y', (13, 10), ' ', (78, 2), (89, 5), 'p', 'i', 'p', (106, 2), (90, 3), (114, 2), 'f', 'i', 'l', (9, 3), 'g', (25, 5), 'i', (122, 2), (17, 2), '\\n', 'P', 'r', 'o', 'v', 'i', 'd', 'e', 'd', (75, 2), 'i', (43, 2), (138, 3), 'y', (101, 3), 'n', (14, 2), 'S', (153, 2), 'u', (34, 2), (42, 3), 'f', 'o', 'r', ' ', 'B', (22, 3), (89, 5), (86, 2), (4, 2), (127, 4), 'a', ' ', 'g', 'u', (47, 2), 'a', (26, 2), (186, 3), 'p', 'u', 'n', 'i', 's', (58, 2), (132, 3), (15, 2), (194, 2), ',', '\\n', 'A', (62, 3), (182, 4), 'd', (86, 2), 'n', \"'\", (43, 2), (111, 2), 'k', (129, 2), 's', (217, 2), 'o', 'o', 'l', (110, 2), (90, 4), (28, 4), (188, 5), (182, 4), (189, 3), (11, 2), (85, 2), 'd', 'y', (220, 3), (106, 2), (35, 3), '\\n', 'S', (82, 2), (279, 25), (319, 31), (319, 10), 'a', (120, 2), (127, 3), (135, 6), (99, 2), 'a', 'm', (318, 18), (52, 2), 'l', (32, 6), (322, 2), (45, 3), (66, 3), (40, 5), (229, 6), (11, 5), (274, 3), 'o', 'f', (233, 3), 'b', (50, 2), (110, 2), (235, 3), (111, 2), (329, 4), 'l', 'a', 'y', (25, 3), (22, 2), (31, 2), (203, 2), (260, 7), (179, 2), 'H', (25, 2), (90, 2), 'w', (26, 2), (97, 3), 't', (11, 2), (372, 7), 'S', (11, 2), 'a', 'k', (314, 2), (32, 2), '.', ' ', (32, 3), 'l', (357, 2), (56, 3), (103, 5), 'i', (413, 3), (36, 3), (171, 2), (47, 2), 'J', 'a', (67, 2), (33, 3), (244, 27)]\n"
       ]
      }
     ],
     "prompt_number": 9
    },
    {
     "cell_type": "markdown",
     "metadata": {},
     "source": [
      "Next we need to code this list of characters and tuples to a bit string to allow for saving it to a file or transmiting it on the web.\n",
      "\n",
      "First we need an ASCII coding function:"
     ]
    },
    {
     "cell_type": "code",
     "collapsed": false,
     "input": [
      "def char2bits(ch):\n",
      "    ''' convert a character to int and then format it to binary \n",
      "    using exactly 7 bits '''\n",
      "    return '{:07b}'.format(ord(ch))\n",
      "print(char2bits('1'))\n",
      "print(char2bits('z'))"
     ],
     "language": "python",
     "metadata": {},
     "outputs": [
      {
       "output_type": "stream",
       "stream": "stdout",
       "text": [
        "0110001\n",
        "1111010\n"
       ]
      }
     ],
     "prompt_number": 10
    },
    {
     "cell_type": "markdown",
     "metadata": {},
     "source": [
      "Note the difference between this and:"
     ]
    },
    {
     "cell_type": "code",
     "collapsed": false,
     "input": [
      "print(bin(ord('1'))[2:])\n",
      "print(char2bits('1'))"
     ],
     "language": "python",
     "metadata": {},
     "outputs": [
      {
       "output_type": "stream",
       "stream": "stdout",
       "text": [
        "110001\n",
        "0110001\n"
       ]
      }
     ],
     "prompt_number": 11
    },
    {
     "cell_type": "markdown",
     "metadata": {},
     "source": [
      "Next we write the function to convert the intermediate format to the binary format.\n",
      "\n",
      "Each word is either a literal (a character) of an offset-length pair (a tuple). \n",
      "\n",
      "- Literals are converted using 7-bit ASCII (the function `char2bits` above).\n",
      "- Offset-length tuples are writen as binary numbers using the same number of bits always. This number is given by the maximum window length and the maximum repetition length.\n",
      "- Before each word we add a bit to denote is the word is a literal (`0`) or an offset-length pair (`1`)."
     ]
    },
    {
     "cell_type": "code",
     "collapsed": false,
     "input": [
      "import math\n",
      "def intermediate2bits(compressed, window_length=2**12-1, max_length=2**5-1):\n",
      "   \"\"\" converts intermediate format compressed list\n",
      "       to a string of bits\"\"\"\n",
      "   offset_width = math.ceil(math.log(window_length, 2))\n",
      "   length_width = math.ceil(math.log(max_length,2))\n",
      "\n",
      "   result = []\n",
      "   for item in compressed:\n",
      "      if isinstance(item, str):\n",
      "         result.append(\"0\")\n",
      "         result.append('{:07b}'.format(ord(item)))\n",
      "      elif isinstance(item, (tuple,list)):\n",
      "         result.append(\"1\")\n",
      "         offset,length = item\n",
      "         result.append('{num:0{width}b}'.format\n",
      "                       (num=offset, width=offset_width))\n",
      "         result.append('{num:0{width}b}'.\n",
      "                       format(num=length, width=length_width))         \n",
      "   return \"\".join(result)"
     ],
     "language": "python",
     "metadata": {},
     "outputs": [],
     "prompt_number": 12
    },
    {
     "cell_type": "code",
     "collapsed": false,
     "input": [
      "welcome_bits = intermediate2bits(welcome_intermediate)\n",
      "print(welcome_bits)"
     ],
     "language": "python",
     "metadata": {},
     "outputs": [
      {
       "output_type": "stream",
       "stream": "stdout",
       "text": [
        "0101011101100101011011000110001101101111011011010110010100100000011011010111100100100000011100110110111101101110001011000010000001110111100000001000000111011101000110111110000000000110001001101000100000001011100011011000010110001101101000011010010110111001100101001011100000101001010111100000000110100010011100101000000001111000100110100001100001011101101000000000101000100111100101101111011101010010000001100010011001010110010101101110001111110010000001001001011101000010011101110011001000000110000101101100011100100110100101100111011010000111010010000001110100001100100000011010110110111001101111011101111000000001000000101000000101010001011000000100101000110010011110000001011000001110000001010000010010000001111010001001011001100000000110101010001000001000001001110000101000001011001001010111000001101001011100001000001101010000101000001011010000111000001110010000100110011001101001011011001000000001001000110110011110000000110010010101101001100000111101000010100000001000100010000010100101000001110010011011110111011001101001011001000110010101100100100000100101100010011010011000000101011000101000010001010000110111100110000011001010001101101110100000000111000010010100111000010011001000100111010110000001000100001010000001010100001101100110011011110111001000100000010000101000000010110000111000001011001001011000001010110000101000000000100000101000001111111001000110000100100000011001110111010110000001011110001001100001100000001101000010100001011101000011011100000111010101101110011010010111001110000001110100001010000100001000001110000000011110001010000110000100001000101100000010100100000110000001111100001110000101101100010001100100100000101011000010011011100010011110000001010110001010000011011110001001101011100001000000100010011100111000011011001000100110111101101111011011001000001101110000101000001011010001001000000011100001001000010111100001011000010110110001001000010111101000111000000001011000101000001010101000100110010001111001100001101110000011100000110101000010100000010001100011000010100101001110000010100100001010001000101111100110001001111111111110001001111110101001100001100000111100000010100000111111100011100001000011100110100000110001100010011000010110110110001001111101001010000001101000001001101100100000010000000110100010100001000010100000010110100011100000100001000011100000010100000101100001110010100110100000000101100101100010001001000011011011110110011010000111010010001101100010100000011001000010100000110111000010100001110101100011100000110111100010100010100100100100011011000110000101111001100000001100100011100000001011000010100000001111100010100001100101100010100010000010000111100001011001100010010010001000000011001000101000001011010000100111011110000000110100001010000011000010001101110100100000000101100010100010111010000111010100111000000001011000100110000101101011100010011101000010100000010000000010001011100010000010000001000000001101101100100010110010100010100000011100000011100000110011100101011010011000110011101000111000000100100000111000010101011000101000000101111000100100101001100001100000100001100010100000010000100011100001111010011011\n"
       ]
      }
     ],
     "prompt_number": 13
    },
    {
     "cell_type": "markdown",
     "metadata": {},
     "source": [
      "We can now write this bitstring to binary file:"
     ]
    },
    {
     "cell_type": "code",
     "collapsed": false,
     "input": [
      "def bitstring_to_file(bitstring, filename):\n",
      "    bytestring = ( bitstring[i:i+8] for i in range(0, len(bitstring), 8) )\n",
      "    intstring = (int(x,2) for x in bytestring)\n",
      "    chrstring = (chr(x) for x in intstring)\n",
      "    output = ''.join(chrstring)\n",
      "    with open(filename,'wb') as f:\n",
      "        f.write(bytes(output, 'utf-8'))"
     ],
     "language": "python",
     "metadata": {},
     "outputs": [],
     "prompt_number": 14
    },
    {
     "cell_type": "code",
     "collapsed": false,
     "input": [
      "bitstring_to_file(welcome_bits, 'welcome.lz')"
     ],
     "language": "python",
     "metadata": {},
     "outputs": [],
     "prompt_number": 15
    },
    {
     "cell_type": "code",
     "collapsed": false,
     "input": [
      "!cat welcome.lz"
     ],
     "language": "python",
     "metadata": {},
     "outputs": [
      {
       "output_type": "stream",
       "stream": "stdout",
       "text": [
        "Welcome my son, w\u05b2\u20ac\u05b2\ufffd\u05b3\ufffd\u001b\u05b3\u00a0\u0006&\u05b2\u02c6\u000b",
        "\n",
        "\u05b2\ufffd\u05b2\u2026\u05b2\ufffd\u05b2\u00a1\u05b2\u00a5\u05b2\u00b9\u05b2\u201d\u05b2\u00b8)^\u0001\u05b2\u00a2r\u05b2\u20acx\u05b2\ufffd\u0018]\u05b2\u00a0\n",
        "\n",
        "'\u05b2\u2013\u05b3\u00b7R\u0006&VV\u05b3\u00a3\u05b3\u00b2\u0004\u05b2\u2014Bw2\u0006\u0016\u05b3\u2021&\u05b2\u2013v\u05b2\u2021H\u001d",
        "\n",
        "\f",
        "\n",
        "\u05b2\ufffd\u05b2\u00ad\u05b2\u00b9\u05b2\u00bd\u05b3\ufffd\u0001\u0002\u05b2\ufffdQ`J2x\u0016\u000e\u0005\u0004\u05b2\ufffd\u05b3\u00a8\u05b2\u2013`\u001a\u05b2\u00a2\b'\n",
        "\n",
        "\u000b",
        "\n",
        "%pip\u05b2\u0192P\u05b2\u00a0\u05b2\u00b489\t\u05b2\u2122\u05b2\u00a5\u05b2\u00b2\u0001#g\u05b2\u20ac\u05b3\u2030Z`\u05b3\u00b4(\b\u05b2\u02c6)A\u05b3\u2030\u05b2\u00bd\u05b3\u2122\u05b2\u00a5\u05b2\u2018\u05b2\u2022\u05b2\u2019\tbi\u05b2\ufffdX\u05b2\u00a1\u00147\u05b2\u02dc2\u05b2\ufffd\u05b2\u00f7\u0001\u05b3\u201aS\u05b2\u201e\u05b3\u02c6\u05b2\ufffd`D(\u0015\n",
        "\n",
        "\u05b2\u2122\u05b2\u00bd\u05b3\u02c6\u05b2\ufffd\n",
        "\n",
        "\u0002\u05b3\u0192\u05b2\u201a\u05b3\u2030`\u05b2\u00ac(\u0002\n",
        "\n",
        "\u000f\u05b3\u20aaa gu\u05b2\ufffdx\u05b2\u02dc`4(]\n",
        "\n",
        "\u05b3\ufffd\u05b3\u2022\u05b2\u00b9\u05b2\u00a5\u05b3\ufffd\u0007B\u05b2\u201e \u05b3\u00a0\u001e",
        "\n",
        "(a\b\u05b2\u00b0)\u0006\u0007\u05b3\u0192\u05b2\u2026\u05b2\u00b1\u0019 \u05b2\u00ac&\u05b3\u00a2x\u0015\u05b2\ufffd\n",
        "\n",
        "\u05b3\u00a2k\u05b2\u201e\b\u05b2\ufffd\u05b3\u00a1\u05b2\u00b2&\u05b3\u00b6\u05b3\u00b6\u05b3\u02c67\n",
        "\n",
        "\u000b",
        "\n",
        "D\u05b2\u20ac\u05b3\u00a1!xX[\u0012\u0017\u05b2\u00a3\u05b2\u20acX\u05b2\u00a0\u05b2\u00d7&G\u05b2\u02dcn\u000e\n",
        "\n",
        "B\u05b2\ufffd\u0018\u05b3\u201a\u05b2\u201d\u05b3\u00a0\u05b2\u20aa(\u05b2\u2039\u05b3\u00a6'\u05b3\u00bf\u05b2\u2030\u05b3\u00f7\u05b2\u02dc`\u05b3\u00b0(?\u05b2\ufffd\u0010\u05b3\u00a6\u05b2\u0192\u0018\u05b2\u02dc[b}(\u001a\t\u05b2\u00b2\u0004\u0006\u05b2\ufffd\u0010\u05b2\u00a0Z8!\u000e\u0005\u0005\u05b2\u2021)\u05b2\u00a0\u0016X\u05b2\u2030\n",
        "\n",
        "\u05b2\u00bd\u05b2\ufffd\u001d",
        "\n",
        "#b\u05b2\ufffd\u05b2\ufffd\u05b2\u00a0\u05b3\ufffd(u\u05b2\ufffd\n",
        "\n",
        "\u05b3\u00a2\u05b2\ufffdI\u001b\u0018^`28\u000b",
        "\n",
        "\n",
        "\n",
        "\u0003\u05b3\u00a2\u05b2\u2020X\u05b2\u00a2\bxY\u05b2\u2030\"\u0003\"\u05b2\u201a\u05b3\ufffd\u05b2\ufffd\u05b3\u00a04(0\u05b2\ufffd\u05b3\u2019\u0001b\u05b2\u2039\u05b2\u00a1\u05b3\u201d\u05b3\u00a0\u0016&\u0016\u05b2\u00b8\u05b2\ufffd\n",
        "\n",
        "\u0004\u0002. \u05b2\ufffd\u0000\u05b3\u203a\"\u05b3\ufffd(\u001c",
        "\n",
        "\u000e\f",
        "\n",
        "\u05b3\u00a5i\u05b2\ufffd\u05b3\u00a8\u05b3\u00a0H8U\u05b2\ufffd\u0005\u05b3\u00a2Ja\u05b2\u201a\u0018\u05b2\u00a0B8z\u001b\n"
       ]
      }
     ],
     "prompt_number": 16
    },
    {
     "cell_type": "markdown",
     "metadata": {},
     "source": [
      "Next we want to do the reverse - decompress the bitstring to the text:"
     ]
    },
    {
     "cell_type": "code",
     "collapsed": false,
     "input": [
      "def bits2intermediate(bitstring, window_length=2**12-1, max_length=2**5-1):\n",
      "    \"\"\" converts a compressed string of bits\n",
      "    to intermediate compressed format \"\"\"\n",
      "    offset_width = math.ceil(math.log(window_length, 2))\n",
      "    length_width = math.ceil(math.log(max_length, 2))\n",
      "\n",
      "    result=[]\n",
      "    i = 0\n",
      "    while i < len(bitstring):\n",
      "        if bitstring[i] == \"0\":  # single ascii char\n",
      "            i += 1\n",
      "            ch = chr(int(bitstring[i:i + 7], 2))\n",
      "            result.append(ch)\n",
      "            i += 7\n",
      "        elif bitstring[i] == \"1\":  # repeat of length >= 2\n",
      "            i += 1\n",
      "            offset = int(bitstring[i:i + offset_width], 2)\n",
      "            i += offset_width\n",
      "            length = int(bitstring[i:i + length_width], 2)\n",
      "            i += length_width\n",
      "            result.append((offset,length))\n",
      "    return result"
     ],
     "language": "python",
     "metadata": {},
     "outputs": [],
     "prompt_number": 17
    },
    {
     "cell_type": "code",
     "collapsed": false,
     "input": [
      "bits2intermediate(welcome_bits)"
     ],
     "language": "python",
     "metadata": {},
     "outputs": [
      {
       "output_type": "pyout",
       "prompt_number": 19,
       "text": [
        "['W',\n",
        " 'e',\n",
        " 'l',\n",
        " 'c',\n",
        " 'o',\n",
        " 'm',\n",
        " 'e',\n",
        " ' ',\n",
        " 'm',\n",
        " 'y',\n",
        " ' ',\n",
        " 's',\n",
        " 'o',\n",
        " 'n',\n",
        " ',',\n",
        " ' ',\n",
        " 'w',\n",
        " (16, 7),\n",
        " 't',\n",
        " 'o',\n",
        " (3, 2),\n",
        " 'h',\n",
        " (23, 3),\n",
        " 'a',\n",
        " 'c',\n",
        " 'h',\n",
        " 'i',\n",
        " 'n',\n",
        " 'e',\n",
        " '.',\n",
        " '\\n',\n",
        " 'W',\n",
        " (13, 2),\n",
        " 'r',\n",
        " (15, 2),\n",
        " 'h',\n",
        " 'a',\n",
        " 'v',\n",
        " (5, 2),\n",
        " 'y',\n",
        " 'o',\n",
        " 'u',\n",
        " ' ',\n",
        " 'b',\n",
        " 'e',\n",
        " 'e',\n",
        " 'n',\n",
        " '?',\n",
        " ' ',\n",
        " 'I',\n",
        " 't',\n",
        " \"'\",\n",
        " 's',\n",
        " ' ',\n",
        " 'a',\n",
        " 'l',\n",
        " 'r',\n",
        " 'i',\n",
        " 'g',\n",
        " 'h',\n",
        " 't',\n",
        " (58, 3),\n",
        " ' ',\n",
        " 'k',\n",
        " 'n',\n",
        " 'o',\n",
        " 'w',\n",
        " (8, 2),\n",
        " (42, 5),\n",
        " (37, 3),\n",
        " \"'\",\n",
        " (44, 3),\n",
        " (40, 4),\n",
        " (61, 2),\n",
        " 'Y',\n",
        " (13, 10),\n",
        " ' ',\n",
        " (78, 2),\n",
        " (89, 5),\n",
        " 'p',\n",
        " 'i',\n",
        " 'p',\n",
        " (106, 2),\n",
        " (90, 3),\n",
        " (114, 2),\n",
        " 'f',\n",
        " 'i',\n",
        " 'l',\n",
        " (9, 3),\n",
        " 'g',\n",
        " (25, 5),\n",
        " 'i',\n",
        " (122, 2),\n",
        " (17, 2),\n",
        " '\\n',\n",
        " 'P',\n",
        " 'r',\n",
        " 'o',\n",
        " 'v',\n",
        " 'i',\n",
        " 'd',\n",
        " 'e',\n",
        " 'd',\n",
        " (75, 2),\n",
        " 'i',\n",
        " (43, 2),\n",
        " (138, 3),\n",
        " 'y',\n",
        " (101, 3),\n",
        " 'n',\n",
        " (14, 2),\n",
        " 'S',\n",
        " (153, 2),\n",
        " 'u',\n",
        " (34, 2),\n",
        " (42, 3),\n",
        " 'f',\n",
        " 'o',\n",
        " 'r',\n",
        " ' ',\n",
        " 'B',\n",
        " (22, 3),\n",
        " (89, 5),\n",
        " (86, 2),\n",
        " (4, 2),\n",
        " (127, 4),\n",
        " 'a',\n",
        " ' ',\n",
        " 'g',\n",
        " 'u',\n",
        " (47, 2),\n",
        " 'a',\n",
        " (26, 2),\n",
        " (186, 3),\n",
        " 'p',\n",
        " 'u',\n",
        " 'n',\n",
        " 'i',\n",
        " 's',\n",
        " (58, 2),\n",
        " (132, 3),\n",
        " (15, 2),\n",
        " (194, 2),\n",
        " ',',\n",
        " '\\n',\n",
        " 'A',\n",
        " (62, 3),\n",
        " (182, 4),\n",
        " 'd',\n",
        " (86, 2),\n",
        " 'n',\n",
        " \"'\",\n",
        " (43, 2),\n",
        " (111, 2),\n",
        " 'k',\n",
        " (129, 2),\n",
        " 's',\n",
        " (217, 2),\n",
        " 'o',\n",
        " 'o',\n",
        " 'l',\n",
        " (110, 2),\n",
        " (90, 4),\n",
        " (28, 4),\n",
        " (188, 5),\n",
        " (182, 4),\n",
        " (189, 3),\n",
        " (11, 2),\n",
        " (85, 2),\n",
        " 'd',\n",
        " 'y',\n",
        " (220, 3),\n",
        " (106, 2),\n",
        " (35, 3),\n",
        " '\\n',\n",
        " 'S',\n",
        " (82, 2),\n",
        " (279, 25),\n",
        " (319, 31),\n",
        " (319, 10),\n",
        " 'a',\n",
        " (120, 2),\n",
        " (127, 3),\n",
        " (135, 6),\n",
        " (99, 2),\n",
        " 'a',\n",
        " 'm',\n",
        " (318, 18),\n",
        " (52, 2),\n",
        " 'l',\n",
        " (32, 6),\n",
        " (322, 2),\n",
        " (45, 3),\n",
        " (66, 3),\n",
        " (40, 5),\n",
        " (229, 6),\n",
        " (11, 5),\n",
        " (274, 3),\n",
        " 'o',\n",
        " 'f',\n",
        " (233, 3),\n",
        " 'b',\n",
        " (50, 2),\n",
        " (110, 2),\n",
        " (235, 3),\n",
        " (111, 2),\n",
        " (329, 4),\n",
        " 'l',\n",
        " 'a',\n",
        " 'y',\n",
        " (25, 3),\n",
        " (22, 2),\n",
        " (31, 2),\n",
        " (203, 2),\n",
        " (260, 7),\n",
        " (179, 2),\n",
        " 'H',\n",
        " (25, 2),\n",
        " (90, 2),\n",
        " 'w',\n",
        " (26, 2),\n",
        " (97, 3),\n",
        " 't',\n",
        " (11, 2),\n",
        " (372, 7),\n",
        " 'S',\n",
        " (11, 2),\n",
        " 'a',\n",
        " 'k',\n",
        " (314, 2),\n",
        " (32, 2),\n",
        " '.',\n",
        " ' ',\n",
        " (32, 3),\n",
        " 'l',\n",
        " (357, 2),\n",
        " (56, 3),\n",
        " (103, 5),\n",
        " 'i',\n",
        " (413, 3),\n",
        " (36, 3),\n",
        " (171, 2),\n",
        " (47, 2),\n",
        " 'J',\n",
        " 'a',\n",
        " (67, 2),\n",
        " (33, 3),\n",
        " (244, 27)]"
       ]
      }
     ],
     "prompt_number": 19
    },
    {
     "cell_type": "code",
     "collapsed": false,
     "input": [
      "def lz77_decompress(compressed, window_length=2**12-1, max_length=2**5-1):\n",
      "    \"\"\"LZ77 decompression from intermediate format to ASCII text\"\"\"\n",
      "    result = []\n",
      "    i = 0\n",
      "    while i < len(compressed):\n",
      "        if isinstance(compressed[i], str):  # char, as opposed to a pair\n",
      "            result.append(compressed[i])\n",
      "            i += 1\n",
      "        else:\n",
      "            offset,length = compressed[i]\n",
      "            i += 1\n",
      "            for j in range(length):\n",
      "                result.append(result[-offset]) # fixed offset\"to the left\" as result itself grows\n",
      "    return ''.join(result)"
     ],
     "language": "python",
     "metadata": {},
     "outputs": [],
     "prompt_number": 20
    },
    {
     "cell_type": "code",
     "collapsed": false,
     "input": [
      "print(lz77_decompress(welcome_intermediate))"
     ],
     "language": "python",
     "metadata": {},
     "outputs": [
      {
       "output_type": "stream",
       "stream": "stdout",
       "text": [
        "Welcome my son, welcome to the machine.\n",
        "Where have you been? It's alright we know where you've been.\n",
        "You've been in the pipeline, filling in time, \n",
        "Provided with toys and Scouting for Boys.\n",
        "You bought a guitar to punish your ma,\n",
        "And you didn't like school, and you know you're nobody's fool,\n",
        "So welcome to the machine.\n",
        "Welcome my son, welcome to the machine.\n",
        "What did you dream? It's alright we told you what to dream.\n",
        "You dreamed of a big star, he played a mean guitar,\n",
        "He always ate in the Steak Bar. He loved to drive in his Jaguar.\n",
        "So welcome to the machine.\n"
       ]
      }
     ],
     "prompt_number": 21
    },
    {
     "cell_type": "markdown",
     "metadata": {},
     "source": [
      "Full compression in one command and a function to calculate the compression ratio:"
     ]
    },
    {
     "cell_type": "code",
     "collapsed": false,
     "input": [
      "compress = lambda text: intermediate2bits(lz77_compress(text))\n",
      "lz_ratio = lambda text: len(compress(text)) / (len(text)*7) "
     ],
     "language": "python",
     "metadata": {},
     "outputs": [],
     "prompt_number": 26
    },
    {
     "cell_type": "markdown",
     "metadata": {},
     "source": [
      "And to check the compression ratio:"
     ]
    },
    {
     "cell_type": "code",
     "collapsed": false,
     "input": [
      "lz_ratio(welcome)"
     ],
     "language": "python",
     "metadata": {},
     "outputs": [
      {
       "output_type": "pyout",
       "prompt_number": 27,
       "text": [
        "0.7864768683274022"
       ]
      }
     ],
     "prompt_number": 27
    },
    {
     "cell_type": "code",
     "collapsed": false,
     "input": [
      "from urllib.request import urlopen\n",
      "with urlopen(\"http://www.gutenberg.org/cache/epub/28233/pg28233.txt\") as f:\n",
      "    newton = f.read().decode('utf-8')\n",
      "print(newton[:newton.index('\\n\\r')])\n",
      "newton = ''.join(ch for ch in newton if ord(ch) < 128)"
     ],
     "language": "python",
     "metadata": {},
     "outputs": [
      {
       "output_type": "stream",
       "stream": "stdout",
       "text": [
        "\ufeffThe Project Gutenberg EBook of Philosophiae Naturalis Principia Mathematica, by \r\n",
        "Isaac Newton\r\n"
       ]
      }
     ],
     "prompt_number": 38
    },
    {
     "cell_type": "code",
     "collapsed": false,
     "input": [
      "len(newton), lz_ratio(newton[:len(newton)//100])"
     ],
     "language": "python",
     "metadata": {},
     "outputs": [
      {
       "output_type": "pyout",
       "prompt_number": 43,
       "text": [
        "(835497, 0.7215021033551079)"
       ]
      }
     ],
     "prompt_number": 43
    },
    {
     "cell_type": "code",
     "collapsed": false,
     "input": [
      "%timeit compress(welcome)\n",
      "%timeit -n 1 compress(newton[:len(newton)//1000])\n",
      "%timeit -n 1 compress(newton[:len(newton)//100])"
     ],
     "language": "python",
     "metadata": {},
     "outputs": [
      {
       "output_type": "stream",
       "stream": "stdout",
       "text": [
        "10 loops, best of 3: 75.5 ms per loop\n",
        "1 loops, best of 3: 226 ms per loop"
       ]
      },
      {
       "output_type": "stream",
       "stream": "stdout",
       "text": [
        "\n",
        "1 loops, best of 3: 16 s per loop"
       ]
      },
      {
       "output_type": "stream",
       "stream": "stdout",
       "text": [
        "\n"
       ]
      }
     ],
     "prompt_number": 61
    },
    {
     "cell_type": "markdown",
     "metadata": {},
     "source": [
      "Some more interesting examples:"
     ]
    },
    {
     "cell_type": "code",
     "collapsed": false,
     "input": [
      "lz77_compress(\"a\"*40)"
     ],
     "language": "python",
     "metadata": {},
     "outputs": [
      {
       "output_type": "pyout",
       "prompt_number": 52,
       "text": [
        "['a', (1, 31), (1, 8)]"
       ]
      }
     ],
     "prompt_number": 52
    },
    {
     "cell_type": "markdown",
     "metadata": {},
     "source": [
      "So you need 8 bits for the initial `a`, then 1+12+5=18 bits for the first offset-length pair of length 32 and another 18 bits for the second offset-length pair for a total of 44 bits:"
     ]
    },
    {
     "cell_type": "code",
     "collapsed": false,
     "input": [
      "len(compress(\"a\"*40))"
     ],
     "language": "python",
     "metadata": {},
     "outputs": [
      {
       "output_type": "pyout",
       "prompt_number": 46,
       "text": [
        "44"
       ]
      }
     ],
     "prompt_number": 46
    },
    {
     "cell_type": "markdown",
     "metadata": {},
     "source": [
      "This can be reduced by increasing the max repetition length:"
     ]
    },
    {
     "cell_type": "code",
     "collapsed": false,
     "input": [
      "lz77_compress(\"a\"*40, max_length=2**6-1)"
     ],
     "language": "python",
     "metadata": {},
     "outputs": [
      {
       "output_type": "pyout",
       "prompt_number": 57,
       "text": [
        "['a', (1, 39)]"
       ]
      }
     ],
     "prompt_number": 57
    },
    {
     "cell_type": "markdown",
     "metadata": {},
     "source": [
      "For 100 repetitions of `a`:"
     ]
    },
    {
     "cell_type": "code",
     "collapsed": false,
     "input": [
      "lz77_compress(\"a\"*100)"
     ],
     "language": "python",
     "metadata": {},
     "outputs": [
      {
       "output_type": "pyout",
       "prompt_number": 50,
       "text": [
        "['a', (1, 31), (1, 31), (1, 31), (1, 6)]"
       ]
      }
     ],
     "prompt_number": 50
    },
    {
     "cell_type": "code",
     "collapsed": false,
     "input": [
      "len(compress(\"a\"*100))"
     ],
     "language": "python",
     "metadata": {},
     "outputs": [
      {
       "output_type": "pyout",
       "prompt_number": 47,
       "text": [
        "80"
       ]
      }
     ],
     "prompt_number": 47
    },
    {
     "cell_type": "markdown",
     "metadata": {},
     "source": [
      "So in general if we have `k` repetitions of `a`, then we need $(k-1)//31 + 1$ offset-length pairs plus the initial `a`, for a total of $8+18((k-1)//31+1)$:"
     ]
    },
    {
     "cell_type": "code",
     "collapsed": false,
     "input": [
      "k = 1000\n",
      "print(len(compress('a'*k)))\n",
      "print(18*((k-1)//31+1)+8)"
     ],
     "language": "python",
     "metadata": {},
     "outputs": [
      {
       "output_type": "stream",
       "stream": "stdout",
       "text": [
        "602\n",
        "602\n"
       ]
      }
     ],
     "prompt_number": 60
    },
    {
     "cell_type": "markdown",
     "metadata": {},
     "source": [
      "**Try at home** - compare LZ and Huffman compression ratios on you favorite text."
     ]
    },
    {
     "cell_type": "markdown",
     "metadata": {},
     "source": [
      "## Fin\n",
      "This notebook is part of the [Extended introduction to computer science](http://tau-cs1001-py.wikidot.com/) course at Tel-Aviv University.\n",
      "\n",
      "The notebook was written using Python 3.2 and IPython 0.13.1.\n",
      "\n",
      "The code is available at <https://raw.github.com/yoavram/CS1001.py/master/recitation12.ipynb>.\n",
      "\n",
      "The notebook can be viewed online at <http://nbviewer.ipython.org/urls/raw.github.com/yoavram/CS1001.py/master/recitation12.ipynb>.\n",
      "\n",
      "This work is licensed under a [Creative Commons Attribution-ShareAlike 3.0 Unported License](http://creativecommons.org/licenses/by-sa/3.0/)."
     ]
    }
   ],
   "metadata": {}
  }
 ]
}