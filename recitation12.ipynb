{
 "metadata": {
  "name": "recitation12"
 },
 "nbformat": 3,
 "nbformat_minor": 0,
 "worksheets": [
  {
   "cells": [
    {
     "cell_type": "code",
     "collapsed": false,
     "input": [
      "def find_max_repetition(text, index, window_length=2**12-1, max_length=2**5-1):\n",
      "    \"\"\" finds a maximum repetition in the text.\n",
      "    Returns offset and length of the longest repetition.\n",
      "    Returned offset is smallest one (closest to index) among all max matches\"\"\"\n",
      "    assert isinstance(text, str)\n",
      "    repitition_length = 0 # length of max repitition\n",
      "    repitition_offset = 0 # distance backwards to begining of max repitition\n",
      "    for offset in range(1, min(index + 1, window_length)): \n",
      "        current_length = 0\n",
      "        for k in range(min(max_length, len(text) - index)):\n",
      "\n",
      "            # at this point, text[index-offset:index-offset+k]==T[index:index+k]\n",
      "            if text[index - offset + k] != text[index + k]:\n",
      "                break\n",
      "            else:\n",
      "                current_length = k + 1\n",
      "        if repitition_length < current_length:  \n",
      "            repitition_length = current_length\n",
      "            repitition_offset = offset\n",
      "    return repitition_offset, repitition_length\n",
      "\n",
      "def test_find_max_repetition(text, index):\n",
      "    offset, length = find_max_repetition(text, index)\n",
      "    print(text[index:index+length])\n",
      "    print(text[index-offset:index-offset+length])\n",
      "    return text[index:index+length] == text[index-offset:index-offset+length]"
     ],
     "language": "python",
     "metadata": {},
     "outputs": [],
     "prompt_number": 44
    },
    {
     "cell_type": "code",
     "collapsed": false,
     "input": [
      "test_find_max_repetition(\"abcdabc\", 4)"
     ],
     "language": "python",
     "metadata": {},
     "outputs": [
      {
       "output_type": "stream",
       "stream": "stdout",
       "text": [
        "abc\n",
        "abc\n"
       ]
      },
      {
       "output_type": "pyout",
       "prompt_number": 45,
       "text": [
        "True"
       ]
      }
     ],
     "prompt_number": 45
    },
    {
     "cell_type": "code",
     "collapsed": false,
     "input": [
      "test_find_max_repetition(\"xyzxyzwxyzw\", 3)"
     ],
     "language": "python",
     "metadata": {},
     "outputs": [
      {
       "output_type": "stream",
       "stream": "stdout",
       "text": [
        "xyz\n",
        "xyz\n"
       ]
      },
      {
       "output_type": "pyout",
       "prompt_number": 48,
       "text": [
        "True"
       ]
      }
     ],
     "prompt_number": 48
    },
    {
     "cell_type": "code",
     "collapsed": false,
     "input": [
      "test_find_max_repetition(\"xyzxyzwxyzw\", 7)"
     ],
     "language": "python",
     "metadata": {},
     "outputs": [
      {
       "output_type": "stream",
       "stream": "stdout",
       "text": [
        "xyzw\n",
        "xyzw\n"
       ]
      },
      {
       "output_type": "pyout",
       "prompt_number": 39,
       "text": [
        "True"
       ]
      }
     ],
     "prompt_number": 39
    },
    {
     "cell_type": "code",
     "collapsed": false,
     "input": [
      "def lz77_compress(text, window_length=2**12-1, max_length=2**5-1):\n",
      "    \"\"\"LZ77 compression of ASCII text. \n",
      "    Produces a list comprising of either ascii character\n",
      "    or by a pair [m,k] where m is an offset and\n",
      "    k is a match (both are non negative integers)\"\"\"\n",
      "    result = []\n",
      "    index = 0\n",
      "    while index < len(text):\n",
      "        if ord(text[index]) >= 128:\n",
      "            # non-ascii\n",
      "            continue\n",
      "        offset, length = find_max_repetition(text, index, window_length, max_length)\n",
      "        if length < 2:\n",
      "            # no repetition or a single character repetition\n",
      "            result.append(text[index]) \n",
      "            index += 1\n",
      "        else:\n",
      "            result.append((offset, length))   # two or more chars in repetition\n",
      "            index += length\n",
      "    return result  # produces a list composed of chars and pairs"
     ],
     "language": "python",
     "metadata": {},
     "outputs": [],
     "prompt_number": 77
    },
    {
     "cell_type": "code",
     "collapsed": false,
     "input": [
      "print(lz77_compress(\"You know what I hate, you know what I hate, you know what I hate? Repetitions!\"))"
     ],
     "language": "python",
     "metadata": {},
     "outputs": [
      {
       "output_type": "stream",
       "stream": "stdout",
       "text": [
        "['Y', 'o', 'u', ' ', 'k', 'n', 'o', 'w', ' ', 'w', 'h', 'a', 't', ' ', 'I', ' ', (6, 3), 'e', ',', ' ', 'y', (22, 31), (22, 10), '?', ' ', 'R', 'e', 'p', 'e', 't', 'i', (2, 2), 'o', 'n', 's', '!']\n"
       ]
      }
     ],
     "prompt_number": 78
    },
    {
     "cell_type": "code",
     "collapsed": false,
     "input": [
      "welcome = '''Welcome my son, welcome to the machine.\n",
      "Where have you been? It's alright we know where you've been.\n",
      "You've been in the pipeline, filling in time, \n",
      "Provided with toys and Scouting for Boys.\n",
      "You bought a guitar to punish your ma,\n",
      "And you didn't like school, and you know you're nobody's fool,\n",
      "So welcome to the machine.\n",
      "Welcome my son, welcome to the machine.\n",
      "What did you dream? It's alright we told you what to dream.\n",
      "You dreamed of a big star, he played a mean guitar,\n",
      "He always ate in the Steak Bar. He loved to drive in his Jaguar.\n",
      "So welcome to the machine.'''"
     ],
     "language": "python",
     "metadata": {},
     "outputs": [],
     "prompt_number": 105
    },
    {
     "cell_type": "code",
     "collapsed": false,
     "input": [
      "welcome_intermediate = lz77_compress(welcome)\n",
      "print(welcome_intermediate)"
     ],
     "language": "python",
     "metadata": {},
     "outputs": [
      {
       "output_type": "stream",
       "stream": "stdout",
       "text": [
        "['W', 'e', 'l', 'c', 'o', 'm', 'e', ' ', 'm', 'y', ' ', 's', 'o', 'n', ',', ' ', 'w', (16, 7), 't', 'o', (3, 2), 'h', (23, 3), 'a', 'c', 'h', 'i', 'n', 'e', '.', '\\n', 'W', (13, 2), 'r', (15, 2), 'h', 'a', 'v', (5, 2), 'y', 'o', 'u', ' ', 'b', 'e', 'e', 'n', '?', ' ', 'I', 't', \"'\", 's', ' ', 'a', 'l', 'r', 'i', 'g', 'h', 't', (58, 3), ' ', 'k', 'n', 'o', 'w', (8, 2), (42, 5), (37, 3), \"'\", (44, 3), (40, 4), (61, 2), 'Y', (13, 10), ' ', (78, 2), (89, 5), 'p', 'i', 'p', (106, 2), (90, 3), (114, 2), 'f', 'i', 'l', (9, 3), 'g', (25, 5), 'i', (122, 2), (17, 2), '\\n', 'P', 'r', 'o', 'v', 'i', 'd', 'e', 'd', (75, 2), 'i', (43, 2), (138, 3), 'y', (101, 3), 'n', (14, 2), 'S', (153, 2), 'u', (34, 2), (42, 3), 'f', 'o', 'r', ' ', 'B', (22, 3), (89, 5), (86, 2), (4, 2), (127, 4), 'a', ' ', 'g', 'u', (47, 2), 'a', (26, 2), (186, 3), 'p', 'u', 'n', 'i', 's', (58, 2), (132, 3), (15, 2), (194, 2), ',', '\\n', 'A', (62, 3), (182, 4), 'd', (86, 2), 'n', \"'\", (43, 2), (111, 2), 'k', (129, 2), 's', (217, 2), 'o', 'o', 'l', (110, 2), (90, 4), (28, 4), (188, 5), (182, 4), (189, 3), (11, 2), (85, 2), 'd', 'y', (220, 3), (106, 2), (35, 3), '\\n', 'S', (82, 2), (279, 25), (319, 31), (319, 10), 'a', (120, 2), (127, 3), (135, 6), (99, 2), 'a', 'm', (318, 18), (52, 2), 'l', (32, 6), (322, 2), (45, 3), (66, 3), (40, 5), (229, 6), (11, 5), (274, 3), 'o', 'f', (233, 3), 'b', (50, 2), (110, 2), (235, 3), (111, 2), (329, 4), 'l', 'a', 'y', (25, 3), (22, 2), (31, 2), (203, 2), (260, 7), (179, 2), 'H', (25, 2), (90, 2), 'w', (26, 2), (97, 3), 't', (11, 2), (372, 7), 'S', (11, 2), 'a', 'k', (314, 2), (32, 2), '.', ' ', (32, 3), 'l', (357, 2), (56, 3), (103, 5), 'i', (413, 3), (36, 3), (171, 2), (47, 2), 'J', 'a', (67, 2), (33, 3), (244, 27)]\n"
       ]
      }
     ],
     "prompt_number": 106
    },
    {
     "cell_type": "code",
     "collapsed": false,
     "input": [
      "print('{:07b}'.format(255))\n",
      "print('{:07b}'.format(32))"
     ],
     "language": "python",
     "metadata": {},
     "outputs": [
      {
       "output_type": "stream",
       "stream": "stdout",
       "text": [
        "11111111\n",
        "0100000\n"
       ]
      }
     ],
     "prompt_number": 107
    },
    {
     "cell_type": "code",
     "collapsed": false,
     "input": [
      "import math\n",
      "def intermediate2bits(compressed, window_length=2**12-1, max_length=2**5-1):\n",
      "   \"\"\" converts intermediate format compressed list\n",
      "       to a string of bits\"\"\"\n",
      "   offset_width = math.ceil(math.log(window_length, 2))\n",
      "   length_width = math.ceil(math.log(max_length,2))\n",
      "\n",
      "   result = []\n",
      "   for item in compressed:\n",
      "      if isinstance(item, str):\n",
      "         result.append(\"0\")\n",
      "         result.append('{:07b}'.format(ord(item)))\n",
      "      elif isinstance(item, (tuple,list)):\n",
      "         result.append(\"1\")\n",
      "         offset,length = item\n",
      "         result.append('{num:0{width}b}'.format\n",
      "                       (num=offset, width=offset_width))\n",
      "         result.append('{num:0{width}b}'.\n",
      "                       format(num=length, width=length_width))         \n",
      "   return \"\".join(result)"
     ],
     "language": "python",
     "metadata": {},
     "outputs": [],
     "prompt_number": 108
    },
    {
     "cell_type": "code",
     "collapsed": false,
     "input": [
      "welcome_bits = intermediate2bits(welcome_intermediate)\n",
      "print(welcome_bits)"
     ],
     "language": "python",
     "metadata": {},
     "outputs": [
      {
       "output_type": "stream",
       "stream": "stdout",
       "text": [
        "0101011101100101011011000110001101101111011011010110010100100000011011010111100100100000011100110110111101101110001011000010000001110111100000001000000111011101000110111110000000000110001001101000100000001011100011011000010110001101101000011010010110111001100101001011100000101001010111100000000110100010011100101000000001111000100110100001100001011101101000000000101000100111100101101111011101010010000001100010011001010110010101101110001111110010000001001001011101000010011101110011001000000110000101101100011100100110100101100111011010000111010010000001110100001100100000011010110110111001101111011101111000000001000000101000000101010001011000000100101000110010011110000001011000001110000001010000010010000001111010001001011001100000000110101010001000001000001001110000101000001011001001010111000001101001011100001000001101010000101000001011010000111000001110010000100110011001101001011011001000000001001000110110011110000000110010010101101001100000111101000010100000001000100010000010100101000001110010011011110111011001101001011001000110010101100100100000100101100010011010011000000101011000101000010001010000110111100110000011001010001101101110100000000111000010010100111000010011001000100111010110000001000100001010000001010100001101100110011011110111001000100000010000101000000010110000111000001011001001011000001010110000101000000000100000101000001111111001000110000100100000011001110111010110000001011110001001100001100000001101000010100001011101000011011100000111010101101110011010010111001110000001110100001010000100001000001110000000011110001010000110000100001000101100000010100100000110000001111100001110000101101100010001100100100000101011000010011011100010011110000001010110001010000011011110001001101011100001000000100010011100111000011011001000100110111101101111011011001000001101110000101000001011010001001000000011100001001000010111100001011000010110110001001000010111101000111000000001011000101000001010101000100110010001111001100001101110000011100000110101000010100000010001100011000010100101001110000010100100001010001000101111100110001001111111111110001001111110101001100001100000111100000010100000111111100011100001000011100110100000110001100010011000010110110110001001111101001010000001101000001001101100100000010000000110100010100001000010100000010110100011100000100001000011100000010100000101100001110010100110100000000101100101100010001001000011011011110110011010000111010010001101100010100000011001000010100000110111000010100001110101100011100000110111100010100010100100100100011011000110000101111001100000001100100011100000001011000010100000001111100010100001100101100010100010000010000111100001011001100010010010001000000011001000101000001011010000100111011110000000110100001010000011000010001101110100100000000101100010100010111010000111010100111000000001011000100110000101101011100010011101000010100000010000000010001011100010000010000001000000001101101100100010110010100010100000011100000011100000110011100101011010011000110011101000111000000100100000111000010101011000101000000101111000100100101001100001100000100001100010100000010000100011100001111010011011\n"
       ]
      }
     ],
     "prompt_number": 109
    },
    {
     "cell_type": "code",
     "collapsed": false,
     "input": [
      "def bits2intermediate(bitstring, window_length=2**12-1, max_length=2**5-1):\n",
      "    \"\"\" converts a compressed string of bits\n",
      "    to intermediate compressed format \"\"\"\n",
      "    offset_width = math.ceil(math.log(window_length, 2))\n",
      "    length_width = math.ceil(math.log(max_length, 2))\n",
      "\n",
      "    result=[]\n",
      "    i = 0\n",
      "    while i < len(bitstring):\n",
      "        if bitstring[i] == \"0\":  # single ascii char\n",
      "            i += 1\n",
      "            ch = chr(int(bitstring[i:i + 7], 2))\n",
      "            result.append(ch)\n",
      "            i += 7\n",
      "        elif bitstring[i] == \"1\":  # repeat of length > 2\n",
      "            i += 1\n",
      "            offset = int(bitstring[i:i + offset_width], 2)\n",
      "            i += offset_width\n",
      "            length = int(bitstring[i:i + length_width], 2)\n",
      "            i += length_width\n",
      "            result.append((offset,length))\n",
      "    return result"
     ],
     "language": "python",
     "metadata": {},
     "outputs": [],
     "prompt_number": 110
    },
    {
     "cell_type": "code",
     "collapsed": false,
     "input": [
      "bits2intermediate(welcome_bits) == welcome_intermediate"
     ],
     "language": "python",
     "metadata": {},
     "outputs": [
      {
       "output_type": "pyout",
       "prompt_number": 111,
       "text": [
        "True"
       ]
      }
     ],
     "prompt_number": 111
    },
    {
     "cell_type": "code",
     "collapsed": false,
     "input": [
      "def lz77_decompress(compressed, window_length=2**12-1, max_length=2**5-1):\n",
      "    \"\"\"LZ77 decompression from intermediate format to ASCII text\"\"\"\n",
      "    result = []\n",
      "    i = 0\n",
      "    while i < len(compressed):\n",
      "        if isinstance(compressed[i], str):  # char, as opposed to a pair\n",
      "            result.append(compressed[i])\n",
      "            i += 1\n",
      "        else:\n",
      "            offset,length = compressed[i]\n",
      "            i += 1\n",
      "            for j in range(length):\n",
      "                result.append(result[-offset]) # fixed offset\"to the left\" as result itself grows\n",
      "    return ''.join(result)"
     ],
     "language": "python",
     "metadata": {},
     "outputs": [],
     "prompt_number": 112
    },
    {
     "cell_type": "code",
     "collapsed": false,
     "input": [
      "print(lz77_decompress(welcome_intermediate))"
     ],
     "language": "python",
     "metadata": {},
     "outputs": [
      {
       "output_type": "stream",
       "stream": "stdout",
       "text": [
        "Welcome my son, welcome to the machine.\n",
        "Where have you been? It's alright we know where you've been.\n",
        "You've been in the pipeline, filling in time, \n",
        "Provided with toys and Scouting for Boys.\n",
        "You bought a guitar to punish your ma,\n",
        "And you didn't like school, and you know you're nobody's fool,\n",
        "So welcome to the machine.\n",
        "Welcome my son, welcome to the machine.\n",
        "What did you dream? It's alright we told you what to dream.\n",
        "You dreamed of a big star, he played a mean guitar,\n",
        "He always ate in the Steak Bar. He loved to drive in his Jaguar.\n",
        "So welcome to the machine.\n"
       ]
      }
     ],
     "prompt_number": 113
    },
    {
     "cell_type": "code",
     "collapsed": false,
     "input": [
      "print(\"Compression ratio:\", len(welcome_bits) / (len(welcome)*7))"
     ],
     "language": "python",
     "metadata": {},
     "outputs": [
      {
       "output_type": "stream",
       "stream": "stdout",
       "text": [
        "Compression ratio: 0.7864768683274022\n"
       ]
      }
     ],
     "prompt_number": 117
    }
   ],
   "metadata": {}
  }
 ]
}