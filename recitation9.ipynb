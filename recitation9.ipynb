{
 "metadata": {
  "name": "recitation9"
 },
 "nbformat": 3,
 "nbformat_minor": 0,
 "worksheets": [
  {
   "cells": [
    {
     "cell_type": "markdown",
     "metadata": {},
     "source": [
      "# CS1001.py\n",
      "\n",
      "## Extended Introduction to Computer Science with Python, Tel-Aviv University, Spring 2013\n",
      "\n",
      "# Recitation 9 - 9-13.5.2013\n",
      "\n",
      "## Last update: 8.5.2013"
     ]
    },
    {
     "cell_type": "markdown",
     "metadata": {},
     "source": [
      "# Data structures\n",
      "\n",
      "Python's:\n",
      "\n",
      "- `list`\n",
      "- `dict`\n",
      "- `string`\n",
      "- `tuple`\n",
      "- `set`\n",
      "\n",
      "Course implementations:\n",
      "\n",
      "- `tree`\n",
      "- `matrix`\n",
      "- `hashtable`\n",
      "- **`linked list`**\n",
      "\n",
      "## Linked list\n",
      "\n",
      "A dynamic structure, location in memory is not consecutive. \n",
      "\n",
      "Some operations become $O(1)$, on the expence of others (especially access).\n",
      "\n",
      "[![Linked List view](http://greenteapress.com/thinkpython/html/illustrations/link2.png)](http://greenteapress.com/thinkpython/html/chap17.html)"
     ]
    },
    {
     "cell_type": "code",
     "collapsed": false,
     "input": [
      "class Node:\n",
      "    def __init__(self, val):\n",
      "        self.value = val\n",
      "        self.next = None\n",
      "        \n",
      "    def __repr__(self):\n",
      "        return str(self.value)"
     ],
     "language": "python",
     "metadata": {},
     "outputs": [],
     "prompt_number": 2
    },
    {
     "cell_type": "code",
     "collapsed": false,
     "input": [
      "node1 = Node(1)\n",
      "node2 = Node(2)\n",
      "node1.next = node2\n",
      "node3 = Node(3)\n",
      "node2.next = node3"
     ],
     "language": "python",
     "metadata": {},
     "outputs": [],
     "prompt_number": 5
    },
    {
     "cell_type": "code",
     "collapsed": false,
     "input": [
      "class LinkedList:\n",
      "    def __init__(self):\n",
      "        self.first = None\n",
      "\n",
      "    def __repr__(self):\n",
      "       out = \"[\"\n",
      "       p = self.first\n",
      "       while (p != None):\n",
      "           out += str(p) + \", \"\n",
      "           p = p.next\n",
      "       return out[:-2] + \"]\""
     ],
     "language": "python",
     "metadata": {},
     "outputs": [],
     "prompt_number": 15
    },
    {
     "cell_type": "code",
     "collapsed": false,
     "input": [
      "lst = LinkedList()\n",
      "lst.first = node1\n",
      "lst"
     ],
     "language": "python",
     "metadata": {},
     "outputs": [
      {
       "output_type": "pyout",
       "prompt_number": 16,
       "text": [
        "[1, 2, 3]"
       ]
      }
     ],
     "prompt_number": 16
    },
    {
     "cell_type": "markdown",
     "metadata": {},
     "source": [
      "Iterating the list, as done is `__repr__`, can be done by advancing the current node to the next untill reaching a `None`:\n",
      "\n",
      "![Iterating a linked list](http://greenteapress.com/thinkpython/html/illustrations/link3.png)"
     ]
    },
    {
     "cell_type": "markdown",
     "metadata": {},
     "source": [
      "### Reverse\n",
      "\n",
      "We want to reverse a linked list:"
     ]
    },
    {
     "cell_type": "code",
     "collapsed": false,
     "input": [
      "class LinkedList:\n",
      "    def __init__(self):\n",
      "        self.first = None\n",
      "\n",
      "    def __repr__(self):\n",
      "       out = \"[\"\n",
      "       p = self.first\n",
      "       while (p != None):\n",
      "           out += str(p) + \", \"\n",
      "           p = p.next\n",
      "       return out[:-2] + \"]\"\n",
      "        \n",
      "    def reverse(self):\n",
      "        prev = None\n",
      "        curr = self.first\n",
      "        while curr != None:\n",
      "            curr.next, prev, curr = prev, curr, curr.next\n",
      "        self.first = prev"
     ],
     "language": "python",
     "metadata": {},
     "outputs": [],
     "prompt_number": 17
    },
    {
     "cell_type": "code",
     "collapsed": false,
     "input": [
      "lst = LinkedList()\n",
      "lst.first = node1\n",
      "print(lst)\n",
      "lst.reverse()\n",
      "print(lst)"
     ],
     "language": "python",
     "metadata": {},
     "outputs": [
      {
       "output_type": "stream",
       "stream": "stdout",
       "text": [
        "[1, 2, 3]\n",
        "[3, 2, 1]\n"
       ]
      }
     ],
     "prompt_number": 18
    },
    {
     "cell_type": "markdown",
     "metadata": {},
     "source": [
      "## Queue"
     ]
    },
    {
     "cell_type": "markdown",
     "metadata": {},
     "source": [
      "## Fin\n",
      "This notebook is part of the [Extended introduction to computer science](http://tau-cs1001-py.wikidot.com/) course at Tel-Aviv University.\n",
      "\n",
      "The notebook was written using Python 3.2 and IPython 0.13.1.\n",
      "\n",
      "The code is available at <https://raw.github.com/yoavram/CS1001.py/master/recitation9.ipynb>.\n",
      "\n",
      "The notebook can be viewed online at <http://nbviewer.ipython.org/urls/raw.github.com/yoavram/CS1001.py/master/recitation9.ipynb>.\n",
      "\n",
      "This work is licensed under a [Creative Commons Attribution-ShareAlike 3.0 Unported License](http://creativecommons.org/licenses/by-sa/3.0/)."
     ]
    }
   ],
   "metadata": {}
  }
 ]
}