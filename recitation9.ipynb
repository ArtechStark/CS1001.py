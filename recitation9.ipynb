{
 "metadata": {
  "name": "recitation9"
 },
 "nbformat": 3,
 "nbformat_minor": 0,
 "worksheets": [
  {
   "cells": [
    {
     "cell_type": "markdown",
     "metadata": {},
     "source": [
      "# CS1001.py\n",
      "\n",
      "## Extended Introduction to Computer Science with Python, Tel-Aviv University, Spring 2013\n",
      "\n",
      "# Recitation 9 - 9-13.5.2013\n",
      "\n",
      "## Last update: 8.5.2013"
     ]
    },
    {
     "cell_type": "markdown",
     "metadata": {},
     "source": [
      "# Data structures\n",
      "\n",
      "Python's:\n",
      "\n",
      "- `list`\n",
      "- `dict`\n",
      "- `string`\n",
      "- `tuple`\n",
      "- `set`\n",
      "\n",
      "Course implementations:\n",
      "\n",
      "- `tree`\n",
      "- `matrix`\n",
      "- `hashtable`\n",
      "- **`linked list`**\n",
      "\n",
      "## Linked list\n",
      "\n",
      "A dynamic structure, location in memory is not consecutive. \n",
      "\n",
      "Some operations become $O(1)$, on the expence of others (especially access).\n",
      "\n",
      "[![Linked List view](http://greenteapress.com/thinkpython/html/illustrations/link2.png)](http://greenteapress.com/thinkpython/html/chap17.html)"
     ]
    },
    {
     "cell_type": "code",
     "collapsed": false,
     "input": [
      "class Node:\n",
      "    def __init__(self, val):\n",
      "        self.value = val\n",
      "        self.next = None\n",
      "        \n",
      "    def __repr__(self):\n",
      "        return str(self.value)"
     ],
     "language": "python",
     "metadata": {},
     "outputs": [],
     "prompt_number": 20
    },
    {
     "cell_type": "code",
     "collapsed": false,
     "input": [
      "node1 = Node(1)\n",
      "node2 = Node(2)\n",
      "node1.next = node2\n",
      "node3 = Node(3)\n",
      "node2.next = node3"
     ],
     "language": "python",
     "metadata": {},
     "outputs": [],
     "prompt_number": 21
    },
    {
     "cell_type": "code",
     "collapsed": false,
     "input": [
      "class LinkedList:\n",
      "    def __init__(self):\n",
      "        self.first = None\n",
      "\n",
      "    def __repr__(self):\n",
      "       out = \"[\"\n",
      "       curr = self.first\n",
      "       while curr:\n",
      "           out += str(curr) + \", \"\n",
      "           curr = curr.next\n",
      "       return out[:-2] + \"]\""
     ],
     "language": "python",
     "metadata": {},
     "outputs": [],
     "prompt_number": 22
    },
    {
     "cell_type": "code",
     "collapsed": false,
     "input": [
      "lst = LinkedList()\n",
      "lst.first = node1\n",
      "lst"
     ],
     "language": "python",
     "metadata": {},
     "outputs": [
      {
       "output_type": "pyout",
       "prompt_number": 23,
       "text": [
        "[1, 2, 3]"
       ]
      }
     ],
     "prompt_number": 23
    },
    {
     "cell_type": "markdown",
     "metadata": {},
     "source": [
      "Iterating the list, as done is `__repr__`, can be done by advancing the current node to the next untill reaching a `None`:\n",
      "\n",
      "![Iterating a linked list](http://greenteapress.com/thinkpython/html/illustrations/link3.png)\n",
      "\n",
      "Now we will implement some more methods:"
     ]
    },
    {
     "cell_type": "code",
     "collapsed": false,
     "input": [
      "class LinkedList:\n",
      "    def __init__(self):\n",
      "        self.first = None\n",
      "\n",
      "    def __repr__(self):\n",
      "       out = \"[\"\n",
      "       curr = self.first\n",
      "       while curr:\n",
      "           out += str(curr) + \", \"\n",
      "           curr = curr.next\n",
      "       return out[:-2] + \"]\"\n",
      "        \n",
      "    def length(self):\n",
      "        curr = self.first\n",
      "        i = 0\n",
      "        while curr:\n",
      "            i += 1\n",
      "            curr = curr.next\n",
      "        return i\n",
      "            \n",
      "    def prepend(self, value):\n",
      "        node = Node(value)\n",
      "        if not self.first:\n",
      "            self.first = node\n",
      "        else:\n",
      "            self.first, node.next = node, self.first\n",
      "    \n",
      "    def append(self, value):\n",
      "        node = Node(value)\n",
      "        curr = self.first\n",
      "        if not curr:\n",
      "            self.first = node\n",
      "        else:\n",
      "            while curr.next:\n",
      "                curr = curr.next\n",
      "            curr.next = node\n",
      "\n",
      "    def insert(self, index, value):\n",
      "        curr = self.first\n",
      "        for i in range(index - 1):\n",
      "            if not curr or not curr.next:\n",
      "                raise IndexError\n",
      "            curr = curr.next\n",
      "        node = Node(value)\n",
      "        curr.next, node.next = node, curr.next\n",
      "\n",
      "    def remove(self, index):\n",
      "        curr = self.first\n",
      "        # iterate to the one before the one to be removed\n",
      "        for i in range(index - 1):\n",
      "            if not curr or not curr.next:\n",
      "                raise IndexError\n",
      "            curr = curr.next\n",
      "        curr.next = curr.next.next\n",
      "            \n",
      "    def get(self, index):\n",
      "        curr = self.first\n",
      "        for i in range(index):\n",
      "            if not curr or not curr.next:\n",
      "                raise IndexError\n",
      "            curr = curr.next\n",
      "        return curr.value\n",
      "            \n",
      "    def index(self, value):\n",
      "        curr = self.first\n",
      "        i = 0\n",
      "        while curr:\n",
      "            if curr.value == value:\n",
      "                return i\n",
      "            curr = curr.next\n",
      "            i += 1\n",
      "        raise ValueError()"
     ],
     "language": "python",
     "metadata": {},
     "outputs": [],
     "prompt_number": 37
    },
    {
     "cell_type": "code",
     "collapsed": false,
     "input": [
      "node1 = Node(1)\n",
      "node2 = Node(2)\n",
      "node1.next = node2\n",
      "node3 = Node(3)\n",
      "node2.next = node3\n",
      "lst = LinkedList()\n",
      "lst.first = node1\n",
      "\n",
      "print(lst)\n",
      "print(lst.length())\n",
      "lst.prepend(0)\n",
      "print(lst)\n",
      "lst.append(4)\n",
      "print(lst)\n",
      "lst.insert(2, 1.5)\n",
      "print(lst)\n",
      "lst.remove(2)\n",
      "print(lst)\n",
      "print(lst.get(2))\n",
      "print(lst.index(2))"
     ],
     "language": "python",
     "metadata": {},
     "outputs": [
      {
       "output_type": "stream",
       "stream": "stdout",
       "text": [
        "[1, 2, 3]\n",
        "3\n",
        "[0, 1, 2, 3]\n",
        "[0, 1, 2, 3, 4]\n",
        "[0, 1, 1.5, 2, 3, 4]\n",
        "[0, 1, 2, 3, 4]\n",
        "2\n",
        "2\n"
       ]
      }
     ],
     "prompt_number": 46
    },
    {
     "cell_type": "markdown",
     "metadata": {},
     "source": [
      "### Reverse\n",
      "\n",
      "We want to reverse a linked list. We implement this as a mehtod just so we don't copy-paste the entire code from above - this can and should be a method."
     ]
    },
    {
     "cell_type": "code",
     "collapsed": false,
     "input": [
      "def reverse(lst):\n",
      "    prev = None\n",
      "    curr = lst.first\n",
      "    while curr:\n",
      "        curr.next, prev, curr = prev, curr, curr.next\n",
      "    lst.first = prev"
     ],
     "language": "python",
     "metadata": {},
     "outputs": [],
     "prompt_number": 47
    },
    {
     "cell_type": "code",
     "collapsed": false,
     "input": [
      "print(lst)\n",
      "reverse(lst)\n",
      "print(lst)"
     ],
     "language": "python",
     "metadata": {},
     "outputs": [
      {
       "output_type": "stream",
       "stream": "stdout",
       "text": [
        "[0, 1, 2, 3, 4]\n",
        "[4, 3, 2, 1, 0]\n"
       ]
      }
     ],
     "prompt_number": 49
    },
    {
     "cell_type": "markdown",
     "metadata": {},
     "source": [
      "## Queue\n",
      "\n",
      "We want to have a first-in-first-out (FIFO) data structure so that we can:\n",
      "\n",
      "-\tpush/enqueue: insert an element to the top of the queue\n",
      "-\tpop/dequeue: remove an element from the bottom of the queue\n",
      "\n",
      "How do our current ordered data structure deal with these tasks?\n",
      "\n",
      "- hashtable\n",
      "- list\n",
      "- linked list\n",
      "\n",
      "We want a data structure where both push and pop are $O(1)$.\n",
      "\n",
      "- linked list with tail reference!"
     ]
    },
    {
     "cell_type": "code",
     "collapsed": false,
     "input": [
      "class QueueList:\n",
      "    def __init__(self):\n",
      "        self.lst = []\n",
      "\n",
      "    def push(self, value):\n",
      "        self.lst.append(Node(value))\n",
      "\n",
      "    def pop(self):\n",
      "        self.lst.pop(0)"
     ],
     "language": "python",
     "metadata": {},
     "outputs": [],
     "prompt_number": 52
    },
    {
     "cell_type": "code",
     "collapsed": false,
     "input": [
      "class QueueLinkedList: \n",
      "  def __init__(self): \n",
      "    self.length = 0 \n",
      "    self.head = None \n",
      "\n",
      "  def push(self, value): \n",
      "    node = Node(value) \n",
      "    node.next = None \n",
      "    if self.head == None: \n",
      "      # if list is empty the new node goes first \n",
      "      self.head = node \n",
      "    else: \n",
      "      # find the last node in the list \n",
      "      last = self.head \n",
      "      while last.next: \n",
      "            last = last.next \n",
      "      # append the new node \n",
      "      last.next = node \n",
      "    self.length = self.length + 1 \n",
      "\n",
      "  def pop(self): \n",
      "    value = self.head.value \n",
      "    self.head = self.head.next \n",
      "    self.length = self.length - 1 \n",
      "    return value "
     ],
     "language": "python",
     "metadata": {},
     "outputs": [],
     "prompt_number": 53
    },
    {
     "cell_type": "code",
     "collapsed": false,
     "input": [
      "class TailedQueueLinkedList: \n",
      "  def __init__(self): \n",
      "    self.length = 0 \n",
      "    self.head   = None \n",
      "    self.tail   = None \n",
      "\n",
      "  def push(self, value): \n",
      "    node = Node(value) \n",
      "    node.next = None \n",
      "    if self.length == 0: \n",
      "      # if list is empty, the new node is head and last \n",
      "      self.head, self.tail = node, node \n",
      "    else: \n",
      "      # find the last node \n",
      "      tail = self.tail \n",
      "      # append the new node \n",
      "      tail.next = node \n",
      "      self.tail = node \n",
      "    self.length = self.length + 1\n",
      "    \n",
      "  def pop(self): \n",
      "    value = self.head.value\n",
      "    self.head = self.head.next \n",
      "    self.length = self.length - 1 \n",
      "    if self.length == 0: \n",
      "      self.tail = None \n",
      "    return value"
     ],
     "language": "python",
     "metadata": {},
     "outputs": [],
     "prompt_number": 54
    },
    {
     "cell_type": "code",
     "collapsed": false,
     "input": [
      "q1 = QueueList()\n",
      "q2 = QueueLinkedList()\n",
      "q3 = TailedQueueLinkedList()"
     ],
     "language": "python",
     "metadata": {},
     "outputs": [],
     "prompt_number": 58
    },
    {
     "cell_type": "code",
     "collapsed": false,
     "input": [
      "%timeit -n 1000 q1.push(1)\n",
      "%timeit -n 1000 q2.push(1)\n",
      "%timeit -n 1000 q3.push(1)"
     ],
     "language": "python",
     "metadata": {},
     "outputs": [
      {
       "output_type": "stream",
       "stream": "stdout",
       "text": [
        "1000 loops, best of 3: 1.16 us per loop\n",
        "1000 loops, best of 3: 69.9 us per loop"
       ]
      },
      {
       "output_type": "stream",
       "stream": "stdout",
       "text": [
        "\n",
        "1000 loops, best of 3: 1.54 us per loop\n"
       ]
      }
     ],
     "prompt_number": 59
    },
    {
     "cell_type": "code",
     "collapsed": false,
     "input": [
      "%timeit -n 1000 q1.pop()\n",
      "%timeit -n 1000 q2.pop()\n",
      "%timeit -n 1000 q3.pop()"
     ],
     "language": "python",
     "metadata": {},
     "outputs": [
      {
       "output_type": "stream",
       "stream": "stdout",
       "text": [
        "1000 loops, best of 3: 855 ns per loop\n",
        "1000 loops, best of 3: 842 ns per loop\n",
        "1000 loops, best of 3: 1.56 us per loop\n"
       ]
      }
     ],
     "prompt_number": 60
    },
    {
     "cell_type": "code",
     "collapsed": false,
     "input": [
      "q1 = QueueList()\n",
      "for i in range(10**6): \n",
      "    q1.push(1)"
     ],
     "language": "python",
     "metadata": {},
     "outputs": [],
     "prompt_number": 61
    },
    {
     "cell_type": "code",
     "collapsed": false,
     "input": [
      "%timeit -n 100 q1.pop()"
     ],
     "language": "python",
     "metadata": {},
     "outputs": [
      {
       "output_type": "stream",
       "stream": "stdout",
       "text": [
        "100 loops, best of 3: 981 us per loop\n"
       ]
      }
     ],
     "prompt_number": 62
    },
    {
     "cell_type": "code",
     "collapsed": false,
     "input": [
      "q1 = QueueList()\n",
      "for i in range(300): \n",
      "    q1.push(1)"
     ],
     "language": "python",
     "metadata": {},
     "outputs": [],
     "prompt_number": 64
    },
    {
     "cell_type": "code",
     "collapsed": false,
     "input": [
      "%timeit -n 100 q1.pop()"
     ],
     "language": "python",
     "metadata": {},
     "outputs": [
      {
       "output_type": "stream",
       "stream": "stdout",
       "text": [
        "100 loops, best of 3: 688 ns per loop\n"
       ]
      }
     ],
     "prompt_number": 65
    },
    {
     "cell_type": "markdown",
     "metadata": {},
     "source": [
      "## Fin\n",
      "This notebook is part of the [Extended introduction to computer science](http://tau-cs1001-py.wikidot.com/) course at Tel-Aviv University.\n",
      "\n",
      "The notebook was written using Python 3.2 and IPython 0.13.1.\n",
      "\n",
      "The code is available at <https://raw.github.com/yoavram/CS1001.py/master/recitation9.ipynb>.\n",
      "\n",
      "The notebook can be viewed online at <http://nbviewer.ipython.org/urls/raw.github.com/yoavram/CS1001.py/master/recitation9.ipynb>.\n",
      "\n",
      "This work is licensed under a [Creative Commons Attribution-ShareAlike 3.0 Unported License](http://creativecommons.org/licenses/by-sa/3.0/)."
     ]
    }
   ],
   "metadata": {}
  }
 ]
}